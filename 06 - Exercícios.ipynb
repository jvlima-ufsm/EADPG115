{
 "cells": [
  {
   "cell_type": "markdown",
   "id": "c7b8216e-deb2-4d2a-8140-af95bdd2540d",
   "metadata": {},
   "source": [
    "**Universidade Federal de Santa Maria**   \n",
    "**Curso de Especialização em Ciência de Dados na Administração Pública**   \n",
    "**FUNDAMENTOS DE PROGRAMAÇÃO NA CIÊNCIA DE DADOS**   \n",
    "\n",
    "# Exercíos de Algoritmos e Programação\n",
    "\n",
    "1) Mostrar na tela o produto entre 28 e 43.\n"
   ]
  },
  {
   "cell_type": "code",
   "execution_count": 2,
   "id": "fecae71d-1700-4dcd-9a13-282074c19c5c",
   "metadata": {},
   "outputs": [
    {
     "name": "stdout",
     "output_type": "stream",
     "text": [
      "1204\n"
     ]
    }
   ],
   "source": [
    "print( 28*43) "
   ]
  },
  {
   "cell_type": "markdown",
   "id": "84b6786f-d2bb-4ee9-acf5-db9632b9987e",
   "metadata": {},
   "source": [
    "2) Mostrar a média aritmética entre 3 números passados pelo usuário.\n"
   ]
  },
  {
   "cell_type": "code",
   "execution_count": 3,
   "id": "8ca2d532-3b44-447a-9879-def7b7372b40",
   "metadata": {},
   "outputs": [
    {
     "name": "stdin",
     "output_type": "stream",
     "text": [
      "Digite um número: 54\n",
      "Digite um número: 34\n",
      "Digite um número: 6\n"
     ]
    },
    {
     "name": "stdout",
     "output_type": "stream",
     "text": [
      "31.333333333333332\n"
     ]
    }
   ],
   "source": [
    "n1 = int( input('Digite um número:') )\n",
    "n2 = int( input('Digite um número:') )\n",
    "n3 = int( input('Digite um número:') )\n",
    "\n",
    "media = (n1 + n2 + n3)/3\n",
    "\n",
    "print( media)"
   ]
  },
  {
   "cell_type": "markdown",
   "id": "c862e4db-115c-4dd6-a0e8-798cbc5cf934",
   "metadata": {},
   "source": [
    "3) Lê um número e mostra seu sucessor e seu antecessor na tela.\n"
   ]
  },
  {
   "cell_type": "code",
   "execution_count": 9,
   "id": "db2699ca-27e3-4227-8c41-63102e6cb26f",
   "metadata": {},
   "outputs": [
    {
     "name": "stdin",
     "output_type": "stream",
     "text": [
      "Digite um número: 7\n"
     ]
    },
    {
     "name": "stdout",
     "output_type": "stream",
     "text": [
      "Sucessor: 8\n",
      "Antecessor: 6\n"
     ]
    }
   ],
   "source": [
    "n1 = int( input('Digite um número:') )\n",
    "\n",
    "print( 'Sucessor:', n1+1 )\n",
    "print( 'Antecessor:', n1-1 )"
   ]
  },
  {
   "cell_type": "markdown",
   "id": "fce36667-895b-463b-aec4-d2149ddef81b",
   "metadata": {},
   "source": [
    "4) Lê dois números e mostra a soma. Antes do resultado, deverá aparecer a mensagem: ``SOMA=``.\n"
   ]
  },
  {
   "cell_type": "code",
   "execution_count": 6,
   "id": "4d96d5cd-ae99-4ecc-800d-19c7ea41e0ca",
   "metadata": {},
   "outputs": [
    {
     "name": "stdin",
     "output_type": "stream",
     "text": [
      "Digite um número: 3\n",
      "Digite um número: 4\n"
     ]
    },
    {
     "name": "stdout",
     "output_type": "stream",
     "text": [
      "SOMA= 7\n"
     ]
    }
   ],
   "source": [
    "n1 = int( input('Digite um número:') )\n",
    "n2 = int( input('Digite um número:') )\n",
    "\n",
    "soma = n1 + n2\n",
    "print( 'SOMA=', soma )"
   ]
  },
  {
   "cell_type": "markdown",
   "id": "8f7b4d1b-5ec8-4537-8cb1-fc28bc1bcbf6",
   "metadata": {},
   "source": [
    "5) Lê um número e mostra a terça parte deste número.\n"
   ]
  },
  {
   "cell_type": "code",
   "execution_count": 7,
   "id": "ce6d39aa-d7cd-4b46-99ff-6f388778bac9",
   "metadata": {},
   "outputs": [
    {
     "name": "stdin",
     "output_type": "stream",
     "text": [
      "Digite um número: 19\n"
     ]
    },
    {
     "name": "stdout",
     "output_type": "stream",
     "text": [
      "6.333333333333333\n"
     ]
    }
   ],
   "source": [
    "n1 = int( input('Digite um número:') )\n",
    "print( n1 / 3 )"
   ]
  },
  {
   "cell_type": "markdown",
   "id": "565b651c-f33c-4933-9dcd-56e7607eb1eb",
   "metadata": {},
   "source": [
    "6) Lê dois números e mostre os seguintes resultados:\n",
    "- Dividendo\n",
    "- Divisor\n",
    "- Quociente\n",
    "- Resto (para calcular o resto de uma divisão, utilize o operador ``%``\n"
   ]
  },
  {
   "cell_type": "code",
   "execution_count": 8,
   "id": "ba9f0c18-064d-4e83-8ce9-1fd301021e8e",
   "metadata": {},
   "outputs": [
    {
     "name": "stdin",
     "output_type": "stream",
     "text": [
      "Digite um número: 17\n",
      "Digite um número: 4\n"
     ]
    },
    {
     "name": "stdout",
     "output_type": "stream",
     "text": [
      "Dividendo: 17\n",
      "Divisor: 4\n",
      "Quociente: 4.25\n",
      "Resto: 1\n"
     ]
    }
   ],
   "source": [
    "n1 = int( input('Digite um número:') )\n",
    "n2 = int( input('Digite um número:') )\n",
    "\n",
    "print( 'Dividendo:', n1 )\n",
    "print( 'Divisor:', n2 )\n",
    "print( 'Quociente:', n1/n2 )\n",
    "print( 'Resto:', n1%n2 )\n"
   ]
  },
  {
   "cell_type": "markdown",
   "id": "2bf65e20-16d4-4e16-b3ce-6611d981c3c2",
   "metadata": {},
   "source": [
    "7) Leia 4 números e mostre a média ponderada, sabendo-se que os pesos são respectivamente: 1, 2, 3 e 4.\n"
   ]
  },
  {
   "cell_type": "code",
   "execution_count": 10,
   "id": "132fc125-4cb0-4c1c-b8cd-c53cf6b63775",
   "metadata": {},
   "outputs": [
    {
     "name": "stdin",
     "output_type": "stream",
     "text": [
      "Digite um número: 4\n",
      "Digite um número: 5\n",
      "Digite um número: 6\n",
      "Digite um número: 23\n"
     ]
    },
    {
     "name": "stdout",
     "output_type": "stream",
     "text": [
      "12.4\n"
     ]
    }
   ],
   "source": [
    "n1 = int( input('Digite um número:') )\n",
    "n2 = int( input('Digite um número:') )\n",
    "n3 = int( input('Digite um número:') )\n",
    "n4 = int( input('Digite um número:') )\n",
    "\n",
    "media = (n1*1 + n2*2 + n3*3 + n4*4)/10\n",
    "print( media )"
   ]
  },
  {
   "cell_type": "markdown",
   "id": "a767dd95-52c2-493b-a495-7f252f512f22",
   "metadata": {},
   "source": [
    "8) Lê o saldo de uma aplicação e imprima o novo saldo, considerado o reajuste de ``1%``.\n"
   ]
  },
  {
   "cell_type": "code",
   "execution_count": 11,
   "id": "a6b43cdb-41e6-49cf-b29d-20b278a484f5",
   "metadata": {},
   "outputs": [
    {
     "name": "stdin",
     "output_type": "stream",
     "text": [
      "Digite o saldo: 100\n"
     ]
    },
    {
     "name": "stdout",
     "output_type": "stream",
     "text": [
      "101.0\n"
     ]
    }
   ],
   "source": [
    "saldo = int( input('Digite o saldo:') )\n",
    "novo_saldo = saldo + saldo * 0.01\n",
    "print( novo_saldo )"
   ]
  },
  {
   "cell_type": "markdown",
   "id": "f230dcb6-5b62-4718-80a0-58c4e4a78a05",
   "metadata": {},
   "source": [
    "9) Entre com a base e a altura de um retângulo e mostre os resultados:\n",
    "- Perímetro (Perímetro é igual à soma dos 4 lados)\n",
    "- Área (Área é igual à lado vezes lado).\n"
   ]
  },
  {
   "cell_type": "code",
   "execution_count": 12,
   "id": "ee17f2eb-7637-4b57-9ea1-3903440b75b9",
   "metadata": {},
   "outputs": [
    {
     "name": "stdin",
     "output_type": "stream",
     "text": [
      "Digite a base: 10\n",
      "Digite a altura: 5\n"
     ]
    },
    {
     "name": "stdout",
     "output_type": "stream",
     "text": [
      "Perimetro: 30\n",
      "Area: 50\n"
     ]
    }
   ],
   "source": [
    "base = int( input('Digite a base:') )\n",
    "altura = int( input('Digite a altura:') )\n",
    "\n",
    "perimetro = base*2 + altura*2\n",
    "area = base*altura\n",
    "\n",
    "print( 'Perimetro:', perimetro )\n",
    "print( 'Area:', area )"
   ]
  },
  {
   "cell_type": "markdown",
   "id": "62331fa2-d230-473e-ad53-1afd824cf460",
   "metadata": {},
   "source": [
    "10) Lê o raio de um círculo e mostre como saída o perímetro ($2 \\pi Raio$) e a área ($\\pi Raio^2$).\n"
   ]
  },
  {
   "cell_type": "code",
   "execution_count": 13,
   "id": "e5056099-0eea-4e4c-8680-0c3c771b6a35",
   "metadata": {},
   "outputs": [
    {
     "name": "stdin",
     "output_type": "stream",
     "text": [
      "Digite o raio: 6\n"
     ]
    },
    {
     "name": "stdout",
     "output_type": "stream",
     "text": [
      "Perimetro: 37.69911184307752\n",
      "Area: 113.09733552923255\n"
     ]
    }
   ],
   "source": [
    "import math\n",
    "\n",
    "raio = int( input('Digite o raio:') )\n",
    "\n",
    "perimetro = 2 * math.pi * raio\n",
    "area = math.pi*(raio**2)\n",
    "\n",
    "print( 'Perimetro:', perimetro )\n",
    "print( 'Area:', area )"
   ]
  },
  {
   "cell_type": "markdown",
   "id": "dbaac273-9e55-4f3f-a0e8-ab9e518e5ce5",
   "metadata": {},
   "source": [
    "11) Calcule e mostre a área de um triângulo (área é igual a (base x altura) dividido por 2)\n"
   ]
  },
  {
   "cell_type": "code",
   "execution_count": 14,
   "id": "3b5ae2ae-cc07-4da4-b41b-48e58f37b981",
   "metadata": {},
   "outputs": [
    {
     "name": "stdin",
     "output_type": "stream",
     "text": [
      "Digite a base: 4\n",
      "Digite a altura: 8\n"
     ]
    },
    {
     "name": "stdout",
     "output_type": "stream",
     "text": [
      "16.0\n"
     ]
    }
   ],
   "source": [
    "base = int( input('Digite a base:') )\n",
    "altura = int( input('Digite a altura:') )\n",
    "\n",
    "area = (base*altura)/2\n",
    "print( area )"
   ]
  },
  {
   "cell_type": "markdown",
   "id": "0ebae274-0e46-4d24-a119-2129679a71d6",
   "metadata": {},
   "source": [
    "12) Calcule o valor de uma prestação em atraso, utilizando a fórmula: ``PRESTAÇÃO = VALOR +(VALOR *  (TAXA/100) *  TEMPO)``.\n"
   ]
  },
  {
   "cell_type": "code",
   "execution_count": 15,
   "id": "aea9e15c-a39c-48a3-a7f0-a4019c19c5cb",
   "metadata": {},
   "outputs": [
    {
     "name": "stdin",
     "output_type": "stream",
     "text": [
      "Digite o valor da prestacao: 100\n",
      "Digite a taxa (em %): 30\n",
      "Digite o tempo: 12\n"
     ]
    },
    {
     "name": "stdout",
     "output_type": "stream",
     "text": [
      "460.0\n"
     ]
    }
   ],
   "source": [
    "valor = float( input('Digite o valor da prestacao:') )\n",
    "taxa = float( input('Digite a taxa (em %):') )\n",
    "tempo = float( input('Digite o tempo:') )\n",
    "\n",
    "prestacao = valor + (valor * (taxa/100) * tempo)\n",
    "print( prestacao )"
   ]
  },
  {
   "cell_type": "markdown",
   "id": "329d1baa-3547-4004-ab4f-aa5e842c19d8",
   "metadata": {},
   "source": [
    "13) Leia o numerador e o denominador de uma fração e transforme-o em um número decimal.\n"
   ]
  },
  {
   "cell_type": "code",
   "execution_count": 16,
   "id": "f1537ef0-911b-4e9b-8ca1-509e2b747630",
   "metadata": {},
   "outputs": [
    {
     "name": "stdin",
     "output_type": "stream",
     "text": [
      "Digite o numerador: 333\n",
      "Digite o denominador: 17\n"
     ]
    },
    {
     "name": "stdout",
     "output_type": "stream",
     "text": [
      "19.58823529411765\n"
     ]
    }
   ],
   "source": [
    "numerador = int( input('Digite o numerador:') )\n",
    "denominador = int( input('Digite o denominador:') )\n",
    "\n",
    "decimal = numerador / denominador\n",
    "\n",
    "print( decimal )"
   ]
  },
  {
   "cell_type": "markdown",
   "id": "f2b8ba43-54a6-4057-98af-07da25527c92",
   "metadata": {},
   "source": [
    "14) Lê um valor de hora e informa quantos minutos se passaram desde o início do dia.\n"
   ]
  },
  {
   "cell_type": "code",
   "execution_count": 17,
   "id": "e95322b0-ae35-41c8-9507-c5424b552512",
   "metadata": {},
   "outputs": [
    {
     "name": "stdin",
     "output_type": "stream",
     "text": [
      "Digite a hora: 7\n"
     ]
    },
    {
     "name": "stdout",
     "output_type": "stream",
     "text": [
      "420\n"
     ]
    }
   ],
   "source": [
    "hora = int( input('Digite a hora:') )\n",
    "minutos = hora*60\n",
    "print( minutos )"
   ]
  },
  {
   "cell_type": "markdown",
   "id": "cb655021-ad1f-4817-84fa-72380154910e",
   "metadata": {},
   "source": [
    "# Condicionais\n",
    "\n",
    "1) Escrever um algoritmo para ler dois valores numéricos e apresentar a diferença do maior pelo menor."
   ]
  },
  {
   "cell_type": "code",
   "execution_count": 20,
   "id": "638525b9-f9c9-4287-b252-19fafd221754",
   "metadata": {},
   "outputs": [
    {
     "name": "stdin",
     "output_type": "stream",
     "text": [
      "Digite um número: 45\n",
      "Digite um número: 76\n"
     ]
    },
    {
     "name": "stdout",
     "output_type": "stream",
     "text": [
      "31\n"
     ]
    }
   ],
   "source": [
    "n1 = int( input('Digite um número:') )\n",
    "n2 = int( input('Digite um número:') )\n",
    "\n",
    "# importante iniciar com valor 0 \n",
    "diferenca = 0\n",
    "if n1 > n2:\n",
    "    diferenca = n1 - n2\n",
    "else:\n",
    "    diferenca = n2 - n1\n",
    "\n",
    "print( diferenca )"
   ]
  },
  {
   "cell_type": "markdown",
   "id": "448c70c9-c43c-42f3-b465-a3f7d997ec0d",
   "metadata": {},
   "source": [
    "2) Faça um algoritmo que leia um número e mostre uma mensagem indicando se este número é par ou ímpar e se é positivo ou negativo.\n"
   ]
  },
  {
   "cell_type": "code",
   "execution_count": 22,
   "id": "2da4079b-5ff1-4ae6-992b-f55a80e24aa7",
   "metadata": {},
   "outputs": [
    {
     "name": "stdin",
     "output_type": "stream",
     "text": [
      "Digite um número: -1\n"
     ]
    },
    {
     "name": "stdout",
     "output_type": "stream",
     "text": [
      "Numero impar\n",
      "Numero negativo\n"
     ]
    }
   ],
   "source": [
    "n1 = int( input('Digite um número:') )\n",
    "\n",
    "# Um número é par quando a divisão resto por 2 é 0\n",
    "if (n1%2) == 0:\n",
    "    print( 'Numero par' )\n",
    "else:\n",
    "    print( 'Numero impar' )\n",
    "\n",
    "if n1 >= 0:\n",
    "    print( 'Numero positivo' )\n",
    "else:\n",
    "    print( 'Numero negativo' )"
   ]
  },
  {
   "cell_type": "markdown",
   "id": "75d2e639-c079-44b5-9a1f-22658c700f17",
   "metadata": {},
   "source": [
    "3) Escrever um algoritmo para ler dois números. Se os números forem iguais imprimir a mensagem: ``Números iguais`` e encerrar a execução; caso contrário, imprimir o de maior valor, acompanhando pela mensagem ``é o maior número``.\n"
   ]
  },
  {
   "cell_type": "code",
   "execution_count": 24,
   "id": "fe3b69c9-c17f-48bd-aa1c-0452422f87ef",
   "metadata": {},
   "outputs": [
    {
     "name": "stdin",
     "output_type": "stream",
     "text": [
      "Digite um número: 45\n",
      "Digite um número: 75\n"
     ]
    },
    {
     "name": "stdout",
     "output_type": "stream",
     "text": [
      "75 e o maior numero\n"
     ]
    }
   ],
   "source": [
    "n1 = int( input('Digite um número:') )\n",
    "n2 = int( input('Digite um número:') )\n",
    "\n",
    "if n1 == n2:\n",
    "    print( 'Numeros iguais' )\n",
    "elif n1 > n2:\n",
    "    print( n1, 'e o maior numero.' )\n",
    "else:\n",
    "    print( n2, 'e o maior numero' )"
   ]
  },
  {
   "cell_type": "markdown",
   "id": "48d97727-d55c-4b4f-85e2-2e2d4199f639",
   "metadata": {},
   "source": [
    "4) Escrever um algoritmo para ler e imprimir três números. Se o primeiro for positivo, imprimir sua raiz quadrada, caso contrário, imprimir o seu quadrado; se o segundo número for maior que 10 e menor que 100, imprimir a mensagem: ``Número está entre 10 e 100 – intervalo permitido``; se o terceiro número for menor que o segundo, calcular e imprimir a diferença entre eles, caso contrário, imprimir o terceiro número adicionado de 1.\n"
   ]
  },
  {
   "cell_type": "code",
   "execution_count": 26,
   "id": "8bcd9c8a-640c-4e88-8c2c-b409e98de6fe",
   "metadata": {},
   "outputs": [
    {
     "name": "stdin",
     "output_type": "stream",
     "text": [
      "Digite o 1o número: 37\n",
      "Digite o 2o número: 45\n",
      "Digite o 3o número: 88\n"
     ]
    },
    {
     "name": "stdout",
     "output_type": "stream",
     "text": [
      "6.082762530298219\n",
      "Numero esta entre 10 e 100 - intervalo permitido\n",
      "89\n"
     ]
    }
   ],
   "source": [
    "import math \n",
    "\n",
    "n1 = int( input('Digite o 1o número:') )\n",
    "n2 = int( input('Digite o 2o número:') )\n",
    "n3 = int( input('Digite o 3o número:') )\n",
    "\n",
    "if n1 > 0:\n",
    "    print( math.sqrt(n1) )\n",
    "else:\n",
    "    print( n1**2 )\n",
    "\n",
    "if n2 > 10 and n2 < 100:\n",
    "    print( 'Numero esta entre 10 e 100 - intervalo permitido' )\n",
    "\n",
    "if n3 < n2:\n",
    "    print( n3 - n2 )\n",
    "else:\n",
    "    print( n3 + 1 )\n"
   ]
  },
  {
   "cell_type": "markdown",
   "id": "b0477216-7204-41c2-9f87-64075f302ee2",
   "metadata": {},
   "source": [
    "5) Elabore um algoritmo que, dada a idade de um nadador, classifique-o em uma das seguintes categorias:\n",
    "- Infantil A: 5 a 7 anos;\n",
    "- Infantil B: 8 a 10 anos;\n",
    "- Juvenil A: 11 a 13 anos;\n",
    "- Juvenil B: 14 a 17 anos;\n",
    "- Sênior: maiores de 18 anos.\n"
   ]
  },
  {
   "cell_type": "code",
   "execution_count": 32,
   "id": "93d3055b-9eed-4c78-8f49-d9395a9807af",
   "metadata": {},
   "outputs": [
    {
     "name": "stdin",
     "output_type": "stream",
     "text": [
      "Digite a idade: 13\n"
     ]
    },
    {
     "name": "stdout",
     "output_type": "stream",
     "text": [
      "Juvenil A\n"
     ]
    }
   ],
   "source": [
    "idade = int( input('Digite a idade:') )\n",
    "\n",
    "if idade < 5:\n",
    "    print( 'Sem categoria' )\n",
    "elif idade >= 5 and idade < 8:\n",
    "    print( 'Infantil A' )\n",
    "elif idade >= 8 and idade < 11:\n",
    "    print( 'Infantil B' )\n",
    "elif idade >= 11 and idade < 14:\n",
    "    print( 'Juvenil A' )\n",
    "elif idade >= 14 and idade < 18:\n",
    "    print( 'Juvenil B' )\n",
    "else:\n",
    "    print( 'Senior' )"
   ]
  },
  {
   "cell_type": "markdown",
   "id": "d166f3c9-305c-45ca-a881-a31738fcf736",
   "metadata": {},
   "source": [
    "6) Faça um algoritmo que leia duas notas obtidas por um aluno na disciplina de Cálculo, o número de aulas ministradas e o número de aulas assistidas por este aluno nesta disciplina. Calcule e mostre a média final deste aluno e diga se ele foi aprovado ou reprovado. Considere que para um aluno ser aprovado ele deve obter média final igual ou maior a 6 e ter no mínimo ``75%`` de frequência. \n"
   ]
  },
  {
   "cell_type": "code",
   "execution_count": 1,
   "id": "81b79249-934f-4b06-80bb-a4433d768be0",
   "metadata": {},
   "outputs": [
    {
     "name": "stdin",
     "output_type": "stream",
     "text": [
      "Digite a 1a nota: 7\n",
      "Digite a 2a nota: 8.3\n",
      "Digite o total de aulas: 60\n",
      "Digite o numero de aulas assistidas: 55\n"
     ]
    },
    {
     "name": "stdout",
     "output_type": "stream",
     "text": [
      "Media foi 7.65\n",
      "Aluno aprovado\n"
     ]
    }
   ],
   "source": [
    "n1 = float( input('Digite a 1a nota:') )\n",
    "n2 = float( input('Digite a 2a nota:') )\n",
    "aulas = int( input('Digite o total de aulas:') )\n",
    "assistidas = int( input('Digite o numero de aulas assistidas:') )\n",
    "\n",
    "media = (n1 + n2)/2\n",
    "print( 'Media foi', media )\n",
    "\n",
    "# Primeiro, testamos a frequencia.\n",
    "# Quem reprova por frequencia, não adianta ter nota\n",
    "frequencia = assistidas / aulas\n",
    "if frequencia >= 0.75:\n",
    "    # agora sim, testamos a nota\n",
    "    if media >= 7:\n",
    "        print( 'Aluno aprovado' )\n",
    "    else:\n",
    "        print( 'Aluno reprovado por nota' )\n",
    "else:\n",
    "    print( 'Aluno reprovado por frequencia' )"
   ]
  },
  {
   "cell_type": "markdown",
   "id": "ceca6310-1ebb-4fe8-af68-b2ac7e625959",
   "metadata": {},
   "source": [
    "7) Leia 3 valores inteiros (X, Y, Z), determine e escreva o menor deles."
   ]
  },
  {
   "cell_type": "code",
   "execution_count": 2,
   "id": "8e85ed9b-d2fa-4888-a0de-da3b213697d3",
   "metadata": {},
   "outputs": [
    {
     "name": "stdin",
     "output_type": "stream",
     "text": [
      "Digite X: 67\n",
      "Digite Y: 4\n",
      "Digite Z: 55\n"
     ]
    },
    {
     "name": "stdout",
     "output_type": "stream",
     "text": [
      "O menor: 4\n"
     ]
    }
   ],
   "source": [
    "X = int( input('Digite X:') )\n",
    "Y = int( input('Digite Y:') )\n",
    "Z = int( input('Digite Z:') )\n",
    "\n",
    "if X < Y and X < Z:\n",
    "        print( 'O menor:', X )\n",
    "elif Y < X and Y < Z:\n",
    "        print( 'O menor:', Y )\n",
    "else:\n",
    "        print( 'O menor:', Z )"
   ]
  },
  {
   "cell_type": "markdown",
   "id": "3f43dc27-0a5b-42be-9e33-6cfec6bb96f8",
   "metadata": {},
   "source": [
    "8) Desenvolva um algoritmo que efetue a leitura de três valores para os lados de um triângulo, considerando lados como: A, B e C. O algoritmo deverá verificar se os lados fornecidos formam realmente um triângulo (cada lado é menor que a soma dos outros dois lados). Se for esta condição verdadeira, deverá ser indicado qual tipo de triângulo foi formado: isósceles (dois lados iguais e um diferente), escaleno (todos os lados diferentes) ou eqüilátero (todos os lados são iguais).\n"
   ]
  },
  {
   "cell_type": "code",
   "execution_count": 7,
   "id": "4aff18e5-35a3-4d26-9bae-bbac11368743",
   "metadata": {},
   "outputs": [
    {
     "name": "stdin",
     "output_type": "stream",
     "text": [
      "Digite A: 3\n",
      "Digite B: 4\n",
      "Digite C: 2\n"
     ]
    },
    {
     "name": "stdout",
     "output_type": "stream",
     "text": [
      "Triangulo escaleno\n"
     ]
    }
   ],
   "source": [
    "A = int( input('Digite A:') )\n",
    "B = int( input('Digite B:') )\n",
    "C = int( input('Digite C:') )\n",
    "\n",
    "# testa se realmente é um triangulo\n",
    "if (A+B) > C and (A+C) > B and (B+C) > A:\n",
    "    # testa se é um equilátero\n",
    "    if (A == B) and (B == C):\n",
    "        print( 'Triangulo equilatero' )\n",
    "    elif (A == B) or (B == C) or (A == C):\n",
    "        print( 'Triangulo isosceles' )\n",
    "    else:\n",
    "        print( 'Triangulo escaleno' )\n",
    "else:\n",
    "    print( 'Nao e um triangulo' )"
   ]
  },
  {
   "cell_type": "markdown",
   "id": "7cff58e6-8b63-447f-8b55-f8c38f70313d",
   "metadata": {},
   "source": [
    "9) A Secretaria de Meio Ambiente, que controla o índice de poluição, mantém 3 grupos de indústrias que são altamente poluentes do meio ambiente. O índice de poluição aceitável varia de ``0,05`` até ``0,29``. Se o índice sobe para ``0,3`` as indústrias do 1º grupo são intimadas a suspenderem suas atividades, se o índice crescer para ``0,4`` as industrias do 1º e 2º grupo são intimadas a suspenderem suas atividades, se o índice atingir ``0,5`` todos os grupos devem ser notificados a paralisarem suas atividades. Faça um programa que leia o índice de poluição medido e emita a notificação adequada aos diferentes grupos de indústrias.\n"
   ]
  },
  {
   "cell_type": "code",
   "execution_count": 8,
   "id": "17044d38-dc48-40ff-b947-c737d2e42585",
   "metadata": {},
   "outputs": [
    {
     "name": "stdin",
     "output_type": "stream",
     "text": [
      "Digite o indice: 0.33\n"
     ]
    },
    {
     "name": "stdout",
     "output_type": "stream",
     "text": [
      "Grupo 1 deve suspender atividades\n"
     ]
    }
   ],
   "source": [
    "indice = float( input('Digite o indice:') )\n",
    "\n",
    "if indice <= 0.29:\n",
    "    print( 'O indice e aceitavel' )\n",
    "elif indice > 0.3 and indice < 0.4:\n",
    "    print( 'Grupo 1 deve suspender atividades' )\n",
    "elif indice >= 0.4 and indice < 0.5:\n",
    "    print( 'Grupo 1 e 2 devem suspender atividades' )\n",
    "else:\n",
    "    print( 'Todos os grupos devem suspender atividades' )"
   ]
  },
  {
   "cell_type": "markdown",
   "id": "07c11a66-0e2a-42e4-9ff9-ef4e35302f4e",
   "metadata": {},
   "source": [
    "10) Ler um número inteiro, e verificar se o número corresponde a um mês válido no calendário e escrever o nome do mês, senão escrever uma mensagem ``Mês Inválido``.\n",
    "\n"
   ]
  },
  {
   "cell_type": "code",
   "execution_count": 9,
   "id": "cd59d9cc-2179-45bc-b5f9-bf2ff8db2644",
   "metadata": {},
   "outputs": [
    {
     "name": "stdin",
     "output_type": "stream",
     "text": [
      "Digite um numero de mes: 3\n"
     ]
    },
    {
     "name": "stdout",
     "output_type": "stream",
     "text": [
      "Mes valido\n"
     ]
    }
   ],
   "source": [
    "mes = int( input('Digite um numero de mes:') )\n",
    "\n",
    "if mes >= 1 and mes <= 12:\n",
    "    print( 'Mes valido' )\n",
    "else:\n",
    "    print( ' Mes invalido' )"
   ]
  },
  {
   "cell_type": "markdown",
   "id": "b4e5fcb5-9a11-4873-aa24-d48e368f7833",
   "metadata": {},
   "source": [
    "11) Um vendedor necessita de um programa que calcule o preço total devido por um cliente. O algoritmo deve receber o código de um produto e a quantidade comprada e calcular o preço total, usando a tabela abaixo. Mostrar uma mensagem no caso de código inválido.\n",
    "| Código Produto| Preço Unitário |\n",
    "|-----|--------------|\n",
    "| 1001  | R\\$ 5,32 | \n",
    "| 1324 | R\\$ 6,45 | \n",
    "| 6548 | R\\$ 2,37 |\n",
    "| 987 | R\\$ 5,32 |\n",
    "| 7623 | R\\$ 6,45 |\n",
    "\n"
   ]
  },
  {
   "cell_type": "code",
   "execution_count": null,
   "id": "aca34cb3-96d2-4ce9-b614-41cf016dcf45",
   "metadata": {},
   "outputs": [],
   "source": []
  },
  {
   "cell_type": "markdown",
   "id": "15db8515-4d00-48ca-a81b-036aa570400e",
   "metadata": {},
   "source": [
    "12) Um banco concederá um crédito especial aos seus clientes, variável com o saldo médio no último ano. Faça um algoritmo que leia o saldo médio de um cliente e calcule o valor do crédito de acordo com a tabela abaixo. Mostre uma mensagem informando o saldo médio e o valor do crédito. \n",
    "| Saldo médio | Percentual  |\n",
    "|-------------|-------------|\n",
    "| de 0 a 200,00 | nenhum crédito (crédito = 0)\n",
    "| de 201,00 a 400,00 | 20% do valor do saldo médio\n",
    "| de 401,00 a 600,00  | 30% do valor do saldo médio |\n",
    "| acima de 600,00  | 40% do valor do saldo médio | "
   ]
  },
  {
   "cell_type": "code",
   "execution_count": null,
   "id": "c7fd2184-b3ef-4a75-80b1-4f0c91331a44",
   "metadata": {},
   "outputs": [],
   "source": []
  }
 ],
 "metadata": {
  "kernelspec": {
   "display_name": "Python 3 (ipykernel)",
   "language": "python",
   "name": "python3"
  },
  "language_info": {
   "codemirror_mode": {
    "name": "ipython",
    "version": 3
   },
   "file_extension": ".py",
   "mimetype": "text/x-python",
   "name": "python",
   "nbconvert_exporter": "python",
   "pygments_lexer": "ipython3",
   "version": "3.11.2"
  }
 },
 "nbformat": 4,
 "nbformat_minor": 5
}
