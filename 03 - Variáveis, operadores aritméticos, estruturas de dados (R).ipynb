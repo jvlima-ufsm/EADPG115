{
 "cells": [
  {
   "cell_type": "code",
   "execution_count": 1,
   "id": "14347980-6521-45d6-a94f-2da6e8fc793e",
   "metadata": {},
   "outputs": [
    {
     "data": {
      "text/html": [
       "'numeric'"
      ],
      "text/latex": [
       "'numeric'"
      ],
      "text/markdown": [
       "'numeric'"
      ],
      "text/plain": [
       "[1] \"numeric\""
      ]
     },
     "metadata": {},
     "output_type": "display_data"
    },
    {
     "data": {
      "text/html": [
       "'numeric'"
      ],
      "text/latex": [
       "'numeric'"
      ],
      "text/markdown": [
       "'numeric'"
      ],
      "text/plain": [
       "[1] \"numeric\""
      ]
     },
     "metadata": {},
     "output_type": "display_data"
    },
    {
     "data": {
      "text/html": [
       "'character'"
      ],
      "text/latex": [
       "'character'"
      ],
      "text/markdown": [
       "'character'"
      ],
      "text/plain": [
       "[1] \"character\""
      ]
     },
     "metadata": {},
     "output_type": "display_data"
    },
    {
     "data": {
      "text/html": [
       "'logical'"
      ],
      "text/latex": [
       "'logical'"
      ],
      "text/markdown": [
       "'logical'"
      ],
      "text/plain": [
       "[1] \"logical\""
      ]
     },
     "metadata": {},
     "output_type": "display_data"
    }
   ],
   "source": [
    "a <- 2\n",
    "class(a)\n",
    "\n",
    "b <- 2.0\n",
    "class(b)\n",
    "\n",
    "mensagem <- 'Ola mundo!'\n",
    "class(mensagem)\n",
    "\n",
    "c <- TRUE\n",
    "class(c)"
   ]
  },
  {
   "cell_type": "code",
   "execution_count": 4,
   "id": "f18d2707-69cb-47ef-8764-24ca7d2ed183",
   "metadata": {},
   "outputs": [
    {
     "name": "stdout",
     "output_type": "stream",
     "text": [
      "[1] 5\n"
     ]
    }
   ],
   "source": [
    "# Isso é um comentário!\n",
    "\n",
    "# Vamos somar dois números abaixo\n",
    "a <- 2 + 3\n",
    "print( a )  # imprimindo aqui"
   ]
  },
  {
   "cell_type": "code",
   "execution_count": 5,
   "id": "1370a61b-f1d0-4402-b7a8-8c12dc0a5356",
   "metadata": {},
   "outputs": [
    {
     "name": "stdout",
     "output_type": "stream",
     "text": [
      "[1] \"Olá mundo!\"\n",
      "[1] \"O valor de x e 8\"\n"
     ]
    }
   ],
   "source": [
    "print( 'Olá mundo!' )\n",
    "x <- 8\n",
    "print( paste('O valor de x e', x) )"
   ]
  },
  {
   "cell_type": "code",
   "execution_count": 6,
   "id": "b3d7bc99-cb64-4039-b6c4-bafc89b45e05",
   "metadata": {},
   "outputs": [
    {
     "name": "stdout",
     "output_type": "stream",
     "text": [
      "[1] 14\n"
     ]
    }
   ],
   "source": [
    "x <- 3 + 24/2^2*2 - 1\n",
    "print( x ) "
   ]
  },
  {
   "cell_type": "code",
   "execution_count": 16,
   "id": "4a725f38-f938-45fd-976f-d1b6d74104cd",
   "metadata": {},
   "outputs": [
    {
     "name": "stdout",
     "output_type": "stream",
     "text": [
      "[1] \"a\"\n",
      "[1] \"a\" \"c\"\n",
      "[1] \"b\" \"c\" \"d\"\n",
      "[1] 1.033333 3.066667 1.900000 3.333333\n"
     ]
    }
   ],
   "source": [
    "v <- c('a', 'b', 'c', 'd')\n",
    "print( v[1] )       # começa no 1\n",
    "print( v[c(1,3)] )  # a e c\n",
    "print( v[2:4] )     # b,c,d\n",
    "\n",
    "u <- c(3.1, 9.2, 5.7, 10.0)\n",
    "w <- u / 3 # divide todos por 3\n",
    "print( w )"
   ]
  },
  {
   "cell_type": "code",
   "execution_count": 11,
   "id": "f10dc624-7963-4d06-b2cc-8757305cc9c7",
   "metadata": {},
   "outputs": [
    {
     "name": "stdin",
     "output_type": "stream",
     "text": [
      "Digite um numero: 7\n"
     ]
    },
    {
     "name": "stdout",
     "output_type": "stream",
     "text": [
      "[1] \"O quadrado do numero 7 e 49\"\n"
     ]
    }
   ],
   "source": [
    "numero <- readline( 'Digite um numero:' )\n",
    "\n",
    "# Importante converter as letras para um número inteiro\n",
    "numero <- as.integer(numero)\n",
    "quadrado <- numero ^ 2\n",
    "\n",
    "print( paste('O quadrado do numero', numero, 'e', quadrado) )"
   ]
  },
  {
   "cell_type": "code",
   "execution_count": 13,
   "id": "4928a12d-0c14-4e18-b723-b19cc9abf656",
   "metadata": {},
   "outputs": [
    {
     "name": "stdout",
     "output_type": "stream",
     "text": [
      "[1] 0\n"
     ]
    }
   ],
   "source": [
    "x <- 5/10 - 1/2\n",
    "print( x )"
   ]
  },
  {
   "cell_type": "code",
   "execution_count": 15,
   "id": "08486419-974c-4df8-976b-2593c5ecd3a5",
   "metadata": {},
   "outputs": [
    {
     "name": "stdin",
     "output_type": "stream",
     "text": [
      "Digite o 1o numero: 3\n",
      "Digite o 2o numero: 7\n",
      "Digite o 3o numero: 9\n"
     ]
    },
    {
     "name": "stdout",
     "output_type": "stream",
     "text": [
      "[1] \"A media dos numeros e: 6.33333333333333\"\n"
     ]
    }
   ],
   "source": [
    "# Primeiro, precisamos ler 3 números\n",
    "n1 <- as.integer(readline( 'Digite o 1o numero:' ))\n",
    "n2 <- as.integer(readline( 'Digite o 2o numero:' ))\n",
    "n3 <- as.integer(readline( 'Digite o 3o numero:' ))\n",
    "\n",
    "# Agora fazemos a média\n",
    "media <- (n1 + n2 + n3)/3\n",
    "# Abaixo imprime o resultado\n",
    "print( paste('A media dos numeros e:', media) )"
   ]
  },
  {
   "cell_type": "code",
   "execution_count": null,
   "id": "17e171d9-3d74-411e-aaf8-4a82cc93036c",
   "metadata": {},
   "outputs": [],
   "source": []
  }
 ],
 "metadata": {
  "kernelspec": {
   "display_name": "R",
   "language": "R",
   "name": "ir"
  },
  "language_info": {
   "codemirror_mode": "r",
   "file_extension": ".r",
   "mimetype": "text/x-r-source",
   "name": "R",
   "pygments_lexer": "r",
   "version": "4.0.4"
  }
 },
 "nbformat": 4,
 "nbformat_minor": 5
}
