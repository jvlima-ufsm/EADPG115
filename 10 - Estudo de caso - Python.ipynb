{
 "cells": [
  {
   "cell_type": "markdown",
   "id": "34293421-34c3-4150-b18f-68a9586fbd91",
   "metadata": {},
   "source": [
    "# Estudo de caso em Python\n",
    "\n",
    "O estudo de caso mostra uma análise simples de dados abertos do Instituto Nacional do Seguro Social (INSS) relativos aos benefícios concedidos em maio de 2023. Os dados estão disponíveis publicamente no Portal de Dados Abertos (https://dados.gov.br/) em três formatos: CSV, XML e JSON.\n",
    "\n",
    "O código abaixo mostra o exemplo de carregamento dos dados com Pandas do arquivo de entrada. Usamos opções adicionais devido ao formato da planilha: ``sep`` para usar o separador ``;`` das colunas, ``encoding`` para definir a codificação de caracteres como acentos. A saída do código mostra as colunas lidas de um total de 508 mil linhas."
   ]
  },
  {
   "cell_type": "code",
   "execution_count": 98,
   "id": "4f50ea8f-4291-4384-a205-27b874cac593",
   "metadata": {
    "scrolled": true
   },
   "outputs": [
    {
     "name": "stdout",
     "output_type": "stream",
     "text": [
      "<class 'pandas.core.frame.DataFrame'>\n",
      "RangeIndex: 508583 entries, 0 to 508582\n",
      "Data columns (total 13 columns):\n",
      " #   Column                 Non-Null Count   Dtype \n",
      "---  ------                 --------------   ----- \n",
      " 0   Competência concessão  508583 non-null  int64 \n",
      " 1   Espécie                508583 non-null  object\n",
      " 2   CID                    508583 non-null  object\n",
      " 3   Despacho               508583 non-null  object\n",
      " 4   Dt Nascimento          508583 non-null  object\n",
      " 5   Sexo.                  508583 non-null  object\n",
      " 6   Clientela              508583 non-null  object\n",
      " 7   Tipo de Cálculo        508583 non-null  object\n",
      " 8   Mun Resid              508583 non-null  object\n",
      " 9   Vínculo dependentes    508583 non-null  object\n",
      " 10  Forma Filiação         508583 non-null  object\n",
      " 11  UF                     508583 non-null  object\n",
      " 12  Qt SM RMI              508583 non-null  object\n",
      "dtypes: int64(1), object(12)\n",
      "memory usage: 50.4+ MB\n"
     ]
    }
   ],
   "source": [
    "inss_maio_2023 = pd.read_csv('D.SDA.PDA.001.CON.202305.csv',\n",
    "                    sep=';', encoding='latin_1')\n",
    "\n",
    "inss_maio_2023.info()"
   ]
  },
  {
   "cell_type": "markdown",
   "id": "da46f220-af28-4934-a1ec-b82a13947eef",
   "metadata": {},
   "source": [
    "Nosso primeiro exemplo é a análise de pedidos de auxílio doença entre as áreas urbanas e rural abaixo. A informação sobre áreas está na coluna ``Clientela``. Primeiro, selecionamos todas as linhas que possuem ``Doenca`` na coluna ‘Espécie’ na linha 1 e o resultado é salvo no DataFrame ``inss_doenca``. Na linha 2 agrupamos os dados pela coluna ``Clientela`` com a função ``groupby`` e contamos as ocorrências de cada valor com ``count()``. "
   ]
  },
  {
   "cell_type": "code",
   "execution_count": 99,
   "id": "6a398ca7-a264-4987-873f-906249a39c6e",
   "metadata": {},
   "outputs": [
    {
     "data": {
      "text/plain": [
       "Clientela\n",
       "Rural        14767\n",
       "Urbano      183614\n",
       "Name: Clientela, dtype: int64"
      ]
     },
     "execution_count": 99,
     "metadata": {},
     "output_type": "execute_result"
    }
   ],
   "source": [
    "inss_doenca = inss_maio_2023[inss_maio_2023['Espécie'].str.contains('Doenca')]\n",
    "inss_doenca.groupby(['Clientela'])['Clientela'].count()"
   ]
  },
  {
   "cell_type": "markdown",
   "id": "86f735e3-3a26-47e8-9fbe-0a7cdda87424",
   "metadata": {},
   "source": [
    "O código mostra a segunda análise sobre a idade dos beneficiários baseada na data de nascimento. Para tanto, precisamos usar a coluna ``Dt Nascimento`` para converter de string para data e calcular a idade com relação a data atual. A linha 8 usa a função ``apply()`` que irá aplicar a função ``calcula_idade`` em todas as linhas da coluna ``Dt Nascimento`` e armazena os resultados em uma nova coluna ``Idade``."
   ]
  },
  {
   "cell_type": "code",
   "execution_count": 100,
   "id": "f1db7909-5f5b-453a-b993-59335eb96d2f",
   "metadata": {},
   "outputs": [
    {
     "data": {
      "text/plain": [
       "<Axes: ylabel='Frequency'>"
      ]
     },
     "execution_count": 100,
     "metadata": {},
     "output_type": "execute_result"
    },
    {
     "data": {
      "image/png": "[encoded data removed]",
      "text/plain": [
       "<Figure size 640x480 with 1 Axes>"
      ]
     },
     "metadata": {},
     "output_type": "display_data"
    }
   ],
   "source": [
    "from datetime import datetime, date\n",
    "\n",
    "def calcula_idade( nascimento ):\n",
    "    nascimento = datetime.strptime(nascimento, '%d/%m/%Y').date()\n",
    "    hoje = date.today()\n",
    "    return hoje.year - nascimento.year - (hoje.month < nascimento.month)\n",
    "\n",
    "inss_maio_2023['Idade'] = inss_maio_2023['Dt Nascimento'].apply( calcula_idade )\n",
    "inss_maio_2023['Idade'].plot.hist()"
   ]
  },
  {
   "cell_type": "markdown",
   "id": "2e4c861c-1e08-4e86-be53-c270e80e3052",
   "metadata": {},
   "source": []
  },
  {
   "cell_type": "code",
   "execution_count": 97,
   "id": "67d69826-c182-402f-a398-8f0e7e9b9c56",
   "metadata": {},
   "outputs": [
    {
     "data": {
      "text/html": [
       "<div>\n",
       "<style scoped>\n",
       "    .dataframe tbody tr th:only-of-type {\n",
       "        vertical-align: middle;\n",
       "    }\n",
       "\n",
       "    .dataframe tbody tr th {\n",
       "        vertical-align: top;\n",
       "    }\n",
       "\n",
       "    .dataframe thead th {\n",
       "        text-align: right;\n",
       "    }\n",
       "</style>\n",
       "<table border=\"1\" class=\"dataframe\">\n",
       "  <thead>\n",
       "    <tr style=\"text-align: right;\">\n",
       "      <th></th>\n",
       "      <th>Competência concessão</th>\n",
       "      <th>Espécie</th>\n",
       "      <th>CID</th>\n",
       "      <th>Despacho</th>\n",
       "      <th>Dt Nascimento</th>\n",
       "      <th>Sexo.</th>\n",
       "      <th>Clientela</th>\n",
       "      <th>Tipo de Cálculo</th>\n",
       "      <th>Mun Resid</th>\n",
       "      <th>Vínculo dependentes</th>\n",
       "      <th>Forma Filiação</th>\n",
       "      <th>UF</th>\n",
       "      <th>Qt SM RMI</th>\n",
       "      <th>Idade</th>\n",
       "    </tr>\n",
       "  </thead>\n",
       "  <tbody>\n",
       "    <tr>\n",
       "      <th>198084</th>\n",
       "      <td>202305</td>\n",
       "      <td>Pensão por Morte de Anistiados</td>\n",
       "      <td>Zerados</td>\n",
       "      <td>Concessao Normal</td>\n",
       "      <td>06/04/1949</td>\n",
       "      <td>Feminino</td>\n",
       "      <td>Urbano</td>\n",
       "      <td>Rmi Informada/Salario Mi</td>\n",
       "      <td>21486-SP-Santos</td>\n",
       "      <td>Cônjuge</td>\n",
       "      <td>Empregado</td>\n",
       "      <td>São Paulo</td>\n",
       "      <td>46.446</td>\n",
       "      <td>74</td>\n",
       "    </tr>\n",
       "    <tr>\n",
       "      <th>411371</th>\n",
       "      <td>202305</td>\n",
       "      <td>Auxílio Salario Maternidade</td>\n",
       "      <td>Zerados</td>\n",
       "      <td>Concessao Normal</td>\n",
       "      <td>01/11/1966</td>\n",
       "      <td>Feminino</td>\n",
       "      <td>Urbano</td>\n",
       "      <td>Calculo na Dib sem Fator</td>\n",
       "      <td>23001-DF-Brasília</td>\n",
       "      <td>Filho Adotivo</td>\n",
       "      <td>Empregado</td>\n",
       "      <td>Distrito Federal</td>\n",
       "      <td>20.464</td>\n",
       "      <td>56</td>\n",
       "    </tr>\n",
       "    <tr>\n",
       "      <th>401956</th>\n",
       "      <td>202305</td>\n",
       "      <td>Auxílio Salario Maternidade</td>\n",
       "      <td>Zerados</td>\n",
       "      <td>Concessao Normal</td>\n",
       "      <td>10/03/1979</td>\n",
       "      <td>Masculino</td>\n",
       "      <td>Urbano</td>\n",
       "      <td>Calculo na Dib sem Fator</td>\n",
       "      <td>21523-SP-Sorocaba</td>\n",
       "      <td>Filho Adotivo</td>\n",
       "      <td>Empregado</td>\n",
       "      <td>São Paulo</td>\n",
       "      <td>18.468</td>\n",
       "      <td>44</td>\n",
       "    </tr>\n",
       "    <tr>\n",
       "      <th>189436</th>\n",
       "      <td>202305</td>\n",
       "      <td>Pensão por Morte Acidente do Trabalho</td>\n",
       "      <td>Zerados</td>\n",
       "      <td>Concessao Normal</td>\n",
       "      <td>05/11/1974</td>\n",
       "      <td>Feminino</td>\n",
       "      <td>Urbano</td>\n",
       "      <td>Rmi Informada/Salario Mi</td>\n",
       "      <td>21096-SP-Campinas</td>\n",
       "      <td>Filho</td>\n",
       "      <td>Empregado</td>\n",
       "      <td>São Paulo</td>\n",
       "      <td>14.570</td>\n",
       "      <td>48</td>\n",
       "    </tr>\n",
       "    <tr>\n",
       "      <th>182534</th>\n",
       "      <td>202305</td>\n",
       "      <td>Auxílio Salario Maternidade</td>\n",
       "      <td>Zerados</td>\n",
       "      <td>Concessao Normal</td>\n",
       "      <td>12/11/1977</td>\n",
       "      <td>Feminino</td>\n",
       "      <td>Urbano</td>\n",
       "      <td>Calculo na Dib sem Fator</td>\n",
       "      <td>21504-SP-São Paulo</td>\n",
       "      <td>Filho Adotivo</td>\n",
       "      <td>Empregado</td>\n",
       "      <td>São Paulo</td>\n",
       "      <td>13.098</td>\n",
       "      <td>45</td>\n",
       "    </tr>\n",
       "  </tbody>\n",
       "</table>\n",
       "</div>"
      ],
      "text/plain": [
       "        Competência concessão                                        Espécie  \\\n",
       "198084                 202305  Pensão por Morte de Anistiados                  \n",
       "411371                 202305  Auxílio Salario Maternidade                     \n",
       "401956                 202305  Auxílio Salario Maternidade                     \n",
       "189436                 202305  Pensão por Morte Acidente do Trabalho           \n",
       "182534                 202305  Auxílio Salario Maternidade                     \n",
       "\n",
       "                                                  CID  \\\n",
       "198084  Zerados                                         \n",
       "411371  Zerados                                         \n",
       "401956  Zerados                                         \n",
       "189436  Zerados                                         \n",
       "182534  Zerados                                         \n",
       "\n",
       "                                        Despacho Dt Nascimento          Sexo.  \\\n",
       "198084  Concessao Normal                            06/04/1949  Feminino        \n",
       "411371  Concessao Normal                            01/11/1966  Feminino        \n",
       "401956  Concessao Normal                            10/03/1979  Masculino       \n",
       "189436  Concessao Normal                            05/11/1974  Feminino        \n",
       "182534  Concessao Normal                            12/11/1977  Feminino        \n",
       "\n",
       "       Clientela           Tipo de Cálculo  \\\n",
       "198084  Urbano    Rmi Informada/Salario Mi   \n",
       "411371  Urbano    Calculo na Dib sem Fator   \n",
       "401956  Urbano    Calculo na Dib sem Fator   \n",
       "189436  Urbano    Rmi Informada/Salario Mi   \n",
       "182534  Urbano    Calculo na Dib sem Fator   \n",
       "\n",
       "                                        Mun Resid Vínculo dependentes  \\\n",
       "198084  21486-SP-Santos                                 Cônjuge         \n",
       "411371  23001-DF-Brasília                               Filho Adotivo   \n",
       "401956  21523-SP-Sorocaba                               Filho Adotivo   \n",
       "189436  21096-SP-Campinas                               Filho           \n",
       "182534  21504-SP-São Paulo                              Filho Adotivo   \n",
       "\n",
       "             Forma Filiação                   UF  Qt SM RMI  Idade  \n",
       "198084  Empregado            São Paulo               46.446     74  \n",
       "411371  Empregado            Distrito Federal        20.464     56  \n",
       "401956  Empregado            São Paulo               18.468     44  \n",
       "189436  Empregado            São Paulo               14.570     48  \n",
       "182534  Empregado            São Paulo               13.098     45  "
      ]
     },
     "execution_count": 97,
     "metadata": {},
     "output_type": "execute_result"
    }
   ],
   "source": [
    "#inss_maio_2023['Qt SM RMI'] = inss_maio_2023['Qt SM RMI'].str.replace(',', '.').astype(float)\n",
    "#inss_maio_2023[inss_maio_2023['Qt SM RMI'] > 1.0].head()\n",
    "inss_maio_2023.sort_values(by='Qt SM RMI', ascending=False).head()"
   ]
  },
  {
   "cell_type": "code",
   "execution_count": null,
   "id": "469d9ffb-5f16-461e-9fb4-4731fb1bcd79",
   "metadata": {},
   "outputs": [],
   "source": []
  }
 ],
 "metadata": {
  "kernelspec": {
   "display_name": "Python 3 (ipykernel)",
   "language": "python",
   "name": "python3"
  },
  "language_info": {
   "codemirror_mode": {
    "name": "ipython",
    "version": 3
   },
   "file_extension": ".py",
   "mimetype": "text/x-python",
   "name": "python",
   "nbconvert_exporter": "python",
   "pygments_lexer": "ipython3",
   "version": "3.11.2"
  }
 },
 "nbformat": 4,
 "nbformat_minor": 5
}
