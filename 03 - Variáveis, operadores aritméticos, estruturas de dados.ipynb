{
 "cells": [
  {
   "cell_type": "markdown",
   "id": "4bbe02e2-3756-4de4-8163-621082f7b85c",
   "metadata": {},
   "source": [
    "# Variáveis, operadores aritméticos, estruturas de dados\n",
    "\n",
    "## Variáveis\n",
    "\n",
    "Variáveis são essencialmente nomes para valores na memória do computador como vimos anteriormente. Os nomes de variáveis, ou identificadores, podem conter os caracteres:\n",
    "- Letras maiúsculas ou minúsculas entre ``A`` e ``Z``\n",
    "- O sublinhado ``_``\n",
    "- Dígitos de ``0`` a ``9`` exceto no começo do nome.\n",
    "\n",
    "Assim sendo, nomes como ``x``, ``celsius``, ``valor_total`` e ``_interno`` são válidos enquanto que ``1nome`` é inválido. Espaços como no nome ``meu teste`` não são permitidos. Nomes com letras maiúsculas ou minúsculas definem nomes diferentes como em ``celsius`` e ``Celsius``.\n",
    "\n",
    "O tipo de um dado determina que valores pode ter e operações sobre esse dado. Os tipos primitivos em Python são:- - Número inteiro: ``int``;\n",
    "- Número com ponto flutuante: ``float``;\n",
    "- Cadeia de caracteres: ``string``;\n",
    "- Número complexo: ``complex``;\n",
    "- Lógico: ``bool`` que tem apenas dois valores ``True`` (verdadeiro) e ``False`` (falso).\n",
    "\n",
    "Python é definido como uma linguagem com tipagem dinâmica, ou seja, o tipo de uma variável é definido no momento da atribuição podendo ser alterado no decorrer da execução. A função especial ``type()`` permite mostrar qual é o tipo associado a um dado ou variável.\n",
    "\n",
    "O código abaixo mostra alguns exemplos de tipos primitivos. O primeiro trecho de código tem um exemplo da soma de dois números inteiros em ``x``, o segundo mostra um exemplo de ``y`` com número de ponto flutuante e o último atribui a ``z`` um número complexo."
   ]
  },
  {
   "cell_type": "code",
   "execution_count": 1,
   "id": "a0924417-8d01-41fe-b7db-95d972768cf1",
   "metadata": {},
   "outputs": [
    {
     "name": "stdout",
     "output_type": "stream",
     "text": [
      "<class 'int'>\n",
      "<class 'float'>\n",
      "<class 'complex'>\n",
      "<class 'str'>\n"
     ]
    }
   ],
   "source": [
    "x = 2 + 3\n",
    "print( type (x) )\n",
    "\n",
    "y = 2.0\n",
    "print( type(y) )\n",
    "\n",
    "z = 2 + 5j\n",
    "print( type(z) )\n",
    "\n",
    "mensagem = 'Ola mundo!'\n",
    "print( type(mensagem) )"
   ]
  },
  {
   "cell_type": "code",
   "execution_count": 3,
   "id": "e383593f-e6cc-41ad-bca9-c3df617b7716",
   "metadata": {},
   "outputs": [
    {
     "name": "stdout",
     "output_type": "stream",
     "text": [
      "Olá mundo!\n",
      "O valor de x e 8\n"
     ]
    }
   ],
   "source": [
    "print( 'Olá mundo!' )\n",
    "x = 8\n",
    "print( 'O valor de x e', x )"
   ]
  },
  {
   "cell_type": "code",
   "execution_count": 5,
   "id": "a39ed55b-0d21-4694-a398-a89fe347bd7f",
   "metadata": {},
   "outputs": [
    {
     "name": "stdout",
     "output_type": "stream",
     "text": [
      "14.0\n"
     ]
    }
   ],
   "source": [
    " x = 3 + 24/2**2*2 - 1\n",
    "print( x ) "
   ]
  },
  {
   "cell_type": "code",
   "execution_count": 6,
   "id": "dabe6a6d-2c03-4c04-91cb-e59c37fcb387",
   "metadata": {},
   "outputs": [
    {
     "name": "stdout",
     "output_type": "stream",
     "text": [
      "[1, 'ovo', 2]\n",
      "3\n",
      "1\n",
      "9\n",
      "[9, 'ovo', 2, 3, 4]\n",
      "[9, 'ovo', 2, 3, 4, 'novo']\n"
     ]
    }
   ],
   "source": [
    "L = [1, 'ovo', 2]\n",
    "print( L )\n",
    "print( len(L) )\n",
    "print( L[0] )\n",
    "\n",
    "L[0] = 9\n",
    "print( L[0] )\n",
    "\n",
    "L = L + [3, 4]\n",
    "print( L )\n",
    "\n",
    "L.append('novo')\n",
    "print( L )"
   ]
  },
  {
   "cell_type": "code",
   "execution_count": null,
   "id": "e65a0abf-754d-42bf-93a7-3ab65f060c25",
   "metadata": {},
   "outputs": [],
   "source": []
  }
 ],
 "metadata": {
  "kernelspec": {
   "display_name": "Python 3 (ipykernel)",
   "language": "python",
   "name": "python3"
  },
  "language_info": {
   "codemirror_mode": {
    "name": "ipython",
    "version": 3
   },
   "file_extension": ".py",
   "mimetype": "text/x-python",
   "name": "python",
   "nbconvert_exporter": "python",
   "pygments_lexer": "ipython3",
   "version": "3.11.2"
  }
 },
 "nbformat": 4,
 "nbformat_minor": 5
}
