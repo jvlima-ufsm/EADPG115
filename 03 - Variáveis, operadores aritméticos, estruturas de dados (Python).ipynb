{
 "cells": [
  {
   "cell_type": "markdown",
   "id": "4bbe02e2-3756-4de4-8163-621082f7b85c",
   "metadata": {},
   "source": [
    "# Variáveis, operadores aritméticos, estruturas de dados\n",
    "\n",
    "## Variáveis\n",
    "\n",
    "Variáveis são essencialmente nomes para valores na memória do computador como vimos anteriormente. Os nomes de variáveis, ou identificadores, podem conter os caracteres:\n",
    "- Letras maiúsculas ou minúsculas entre ``A`` e ``Z``\n",
    "- O sublinhado ``_``\n",
    "- Dígitos de ``0`` a ``9`` exceto no começo do nome.\n",
    "\n",
    "Assim sendo, nomes como ``x``, ``celsius``, ``valor_total`` e ``_interno`` são válidos enquanto que ``1nome`` é inválido. Espaços como no nome ``meu teste`` não são permitidos. Nomes com letras maiúsculas ou minúsculas definem nomes diferentes como em ``celsius`` e ``Celsius``.\n",
    "\n",
    "O tipo de um dado determina que valores pode ter e operações sobre esse dado. Os tipos primitivos em Python são:- - Número inteiro: ``int``;\n",
    "- Número com ponto flutuante: ``float``;\n",
    "- Cadeia de caracteres: ``string``;\n",
    "- Número complexo: ``complex``;\n",
    "- Lógico: ``bool`` que tem apenas dois valores ``True`` (verdadeiro) e ``False`` (falso).\n",
    "\n",
    "Python é definido como uma linguagem com tipagem dinâmica, ou seja, o tipo de uma variável é definido no momento da atribuição podendo ser alterado no decorrer da execução. A função especial ``type()`` permite mostrar qual é o tipo associado a um dado ou variável.\n",
    "\n",
    "O código abaixo mostra alguns exemplos de tipos primitivos. O primeiro trecho de código tem um exemplo da soma de dois números inteiros em ``x``, o segundo mostra um exemplo de ``y`` com número de ponto flutuante e o último atribui a ``z`` um número complexo."
   ]
  },
  {
   "cell_type": "code",
   "execution_count": 13,
   "id": "a0924417-8d01-41fe-b7db-95d972768cf1",
   "metadata": {},
   "outputs": [
    {
     "name": "stdout",
     "output_type": "stream",
     "text": [
      "<class 'int'>\n",
      "<class 'float'>\n",
      "<class 'complex'>\n",
      "<class 'str'>\n",
      "<class 'bool'>\n"
     ]
    }
   ],
   "source": [
    "x = 2 + 3\n",
    "print( type (x) )\n",
    "\n",
    "y = 2.0\n",
    "print( type(y) )\n",
    "\n",
    "z = 2 + 5j\n",
    "print( type(z) )\n",
    "\n",
    "mensagem = 'Ola mundo!'\n",
    "print( type(mensagem) )\n",
    "\n",
    "logico = True\n",
    "print( type(logico) )"
   ]
  },
  {
   "cell_type": "markdown",
   "id": "b63fe24d-bc31-49d8-933e-37ca4a3e174d",
   "metadata": {},
   "source": [
    "## Saída de dados"
   ]
  },
  {
   "cell_type": "code",
   "execution_count": 3,
   "id": "e383593f-e6cc-41ad-bca9-c3df617b7716",
   "metadata": {},
   "outputs": [
    {
     "name": "stdout",
     "output_type": "stream",
     "text": [
      "Olá mundo!\n",
      "O valor de x e 8\n"
     ]
    }
   ],
   "source": [
    "print( 'Olá mundo!' )\n",
    "x = 8\n",
    "print( 'O valor de x e', x )"
   ]
  },
  {
   "cell_type": "markdown",
   "id": "925eb43b-95d2-4a73-bd02-9e280c27fce5",
   "metadata": {},
   "source": [
    "## Entrada de dados\n",
    "\n",
    "A entrada de dados é feita com a função ``input()``. O programa pausa e espera o usuário  digitar a entrada. Essa função lê apenas caracteres, ou letras, então precisamos converter para o tipo desejado.\n",
    "\n",
    "O exemplo abaixo é um nome e idade. Como idade é um número inteiro, devemos converter para inteiro com a função ``int()``.\n"
   ]
  },
  {
   "cell_type": "code",
   "execution_count": 1,
   "id": "591e3dfe-de71-426a-b2ec-39205a5c1544",
   "metadata": {},
   "outputs": [
    {
     "name": "stdin",
     "output_type": "stream",
     "text": [
      "Digite seu nome: Joao\n",
      "Digite sua idade: 30\n"
     ]
    }
   ],
   "source": [
    "nome = input( 'Digite seu nome:' )\n",
    "idade = input( 'Digite sua idade:' )\n",
    "idade = int(idade)"
   ]
  },
  {
   "cell_type": "markdown",
   "id": "c2f3a88c-c13a-44fa-9244-43544964fcc8",
   "metadata": {},
   "source": [
    "## Comentários\n",
    "\n",
    "Os comentários no código são ignorados pelo interpretador Python. Usamos o ``#`` e o texto é ignorado até o fim da linha"
   ]
  },
  {
   "cell_type": "code",
   "execution_count": 2,
   "id": "343b47c0-46c0-4ad2-b7d4-eaf185d15800",
   "metadata": {},
   "outputs": [
    {
     "name": "stdout",
     "output_type": "stream",
     "text": [
      "5\n"
     ]
    }
   ],
   "source": [
    "# Isso é um comentário!\n",
    "\n",
    "# Vamos somar dois números abaixo\n",
    "a = 2 + 3\n",
    "print( a )  # imprimindo aqui"
   ]
  },
  {
   "cell_type": "markdown",
   "id": "50cb7296-ddbe-494e-ab49-17f5a7da7efb",
   "metadata": {},
   "source": [
    "## Operadores aritméticos\n",
    "\n",
    "As operações aritméticas são:\n",
    "- ``+`` Adição\n",
    "- ``-`` Subtração\n",
    "- ``*`` Multiplicação\n",
    "- ``/`` Divisão\n",
    "- ``//`` Divisão   com quociente  inteiro\n",
    "- ``%`` Resto da divisão de dois números inteiros\n",
    "- ``**`` Exponenciação\n",
    "\n",
    "O exemplo abaixo mostra o resultado da ordem de precedência dos operadores."
   ]
  },
  {
   "cell_type": "code",
   "execution_count": 5,
   "id": "a39ed55b-0d21-4694-a398-a89fe347bd7f",
   "metadata": {},
   "outputs": [
    {
     "name": "stdout",
     "output_type": "stream",
     "text": [
      "14.0\n"
     ]
    }
   ],
   "source": [
    " x = 3 + 24/2**2*2 - 1\n",
    "print( x ) "
   ]
  },
  {
   "cell_type": "markdown",
   "id": "02545521-b1e4-4601-9b59-ee5187136dd6",
   "metadata": {},
   "source": [
    "## Listas\n",
    "\n",
    "Listas são sequências de dados mais genéricas do que string providas pela linguagem. Os dados podem ser de qualquer tipo sem tamanho fixo de elementos. Listas também são mutáveis, ou seja, permitem alterações dos elementos por indexação.  Uma lista pode ser criada por meio de colchetes ``[]`` e seus elementos dentro separados por vírgula. Uma lista de números ``[1, 2, 3, 4]`` tem quatro elementos e uma lista de tipos diferentes pode ser criada com ``[1, 'dois', 3, 'quatro']``.\n",
    "\n",
    "O código abaixo ilustra alguns exemplos de manipulação de listas. A lista da linha 1 tem elementos numéricos e  ``string`` totalizando três elementos como mostrado pela função ``len()`` da linha 4. O acesso a elementos por indexação usa ``[]`` com o número do elemento como mostrado na linha 5. A linha 7 mostra a alteração de valor ``0`` para ``9`` do elemento na posição zero. A adição de elementos pode ser feita por adição (linha 10) ou através do método ``append()`` (linha 14)."
   ]
  },
  {
   "cell_type": "code",
   "execution_count": 6,
   "id": "dabe6a6d-2c03-4c04-91cb-e59c37fcb387",
   "metadata": {},
   "outputs": [
    {
     "name": "stdout",
     "output_type": "stream",
     "text": [
      "[1, 'ovo', 2]\n",
      "3\n",
      "1\n",
      "9\n",
      "[9, 'ovo', 2, 3, 4]\n",
      "[9, 'ovo', 2, 3, 4, 'novo']\n"
     ]
    }
   ],
   "source": [
    "L = [1, 'ovo', 2]\n",
    "print( L )\n",
    "print( len(L) )\n",
    "print( L[0] )\n",
    "\n",
    "L[0] = 9\n",
    "print( L[0] )\n",
    "\n",
    "L = L + [3, 4]\n",
    "print( L )\n",
    "\n",
    "L.append('novo')\n",
    "print( L )"
   ]
  },
  {
   "cell_type": "markdown",
   "id": "c3ba0cce-582d-46b6-bdd7-9d591aa90f8a",
   "metadata": {},
   "source": [
    "## Exercícios da aula\n",
    "\n",
    "1. Leia um número e faça o quadrado dele"
   ]
  },
  {
   "cell_type": "code",
   "execution_count": 5,
   "id": "1acfeb53-40bb-4b51-8a08-d21cda346c90",
   "metadata": {},
   "outputs": [
    {
     "name": "stdin",
     "output_type": "stream",
     "text": [
      "Digite um numero: 7\n"
     ]
    },
    {
     "name": "stdout",
     "output_type": "stream",
     "text": [
      "O quadrado do numero 7 e 49\n"
     ]
    }
   ],
   "source": [
    "numero = input( 'Digite um numero:' )\n",
    "\n",
    "# Importante converter as letras para um número inteiro\n",
    "numero = int(numero)\n",
    "quadrado = numero ** 2\n",
    "\n",
    "print( 'O quadrado do numero', numero, 'e', quadrado )"
   ]
  },
  {
   "cell_type": "markdown",
   "id": "75533aca-3075-49ff-85ce-a7310abd58db",
   "metadata": {},
   "source": [
    "2. Reproduza a expressão e mostre o valor de: 5/10 - 1/2\n"
   ]
  },
  {
   "cell_type": "code",
   "execution_count": 6,
   "id": "06cbe3d0-67d9-49f3-b999-0ee57b3aa714",
   "metadata": {},
   "outputs": [
    {
     "name": "stdout",
     "output_type": "stream",
     "text": [
      "0.0\n"
     ]
    }
   ],
   "source": [
    "x = 5/10 - 1/2\n",
    "print( x )"
   ]
  },
  {
   "cell_type": "markdown",
   "id": "eb2fd1d9-298f-4be4-aeb2-7e5d3c4dbad3",
   "metadata": {},
   "source": [
    "3. Faça a média de 3 números informados pelo usuário.\n"
   ]
  },
  {
   "cell_type": "code",
   "execution_count": 10,
   "id": "352250ab-2ead-47bd-a097-0f05cffd1444",
   "metadata": {},
   "outputs": [
    {
     "name": "stdin",
     "output_type": "stream",
     "text": [
      "Digite o 1o numero: 6\n",
      "Digite o 2o numero: 7\n",
      "Digite o 3o numero: 9\n"
     ]
    },
    {
     "name": "stdout",
     "output_type": "stream",
     "text": [
      "A media dos numeros e: 7.333333333333333\n"
     ]
    }
   ],
   "source": [
    "# Primeiro, precisamos ler 3 números\n",
    "n1 = int(input( 'Digite o 1o numero:' ))\n",
    "n2 = int(input( 'Digite o 2o numero:' ))\n",
    "n3 = int(input( 'Digite o 3o numero:' ))\n",
    "\n",
    "# Agora fazemos a média\n",
    "media = (n1 + n2 + n3)/3\n",
    "# Abaixo imprime o resultado\n",
    "print( 'A media dos numeros e:', media )"
   ]
  },
  {
   "cell_type": "code",
   "execution_count": null,
   "id": "79e47b7a-abd4-4465-a347-42c877e3a57a",
   "metadata": {},
   "outputs": [],
   "source": []
  }
 ],
 "metadata": {
  "kernelspec": {
   "display_name": "Python 3 (ipykernel)",
   "language": "python",
   "name": "python3"
  },
  "language_info": {
   "codemirror_mode": {
    "name": "ipython",
    "version": 3
   },
   "file_extension": ".py",
   "mimetype": "text/x-python",
   "name": "python",
   "nbconvert_exporter": "python",
   "pygments_lexer": "ipython3",
   "version": "3.9.2"
  }
 },
 "nbformat": 4,
 "nbformat_minor": 5
}
