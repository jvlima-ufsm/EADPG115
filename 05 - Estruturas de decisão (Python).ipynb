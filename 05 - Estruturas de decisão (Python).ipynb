{
 "cells": [
  {
   "cell_type": "markdown",
   "id": "bc263de1-1cfd-4c92-9cdc-ba70dba671a5",
   "metadata": {},
   "source": [
    "# Estruturas de decisão - versão Python\n",
    "\n",
    "Uma estrutura de decisão executa um conjunto de instruções caso uma determinada condição lógica seja avaliada como verdadeira. Nesta seção veremos as variação da estrutura de decisão SE do Python ``if/elif`` e SENÃO ``else``.\n",
    "\n",
    "## IF\n",
    "\n",
    "O teste condicional mais simples é o ``if`` que avalia uma condição lógica e executa as instruções abaixo quando esta condição é verdadeira (``True``). O código abaixo  mostra o exemplo de comparação de dois números na linha 3. Note que o teste condicional da linha 3 termina com ``:`` para delimitar o fim das condições de teste e início das instruções. Logo abaixo, as instruções a serem executadas são delimitadas por um recuo tabular ou espaçamento no inicio de cada linha. Esse recuo tem por objetivo delimitar o inicio e o fim do bloco de código do ``if``. Note que a linha 5 não tem recuo, portanto não está dentro da estrutura de decisão."
   ]
  },
  {
   "cell_type": "code",
   "execution_count": 1,
   "id": "cb6b3b8e-306d-4794-a54b-8b5d49ce0042",
   "metadata": {},
   "outputs": [
    {
     "name": "stdout",
     "output_type": "stream",
     "text": [
      "O maior: 5\n",
      "Fim\n"
     ]
    }
   ],
   "source": [
    "x = 5\n",
    "y = 4\n",
    "if x > y:\n",
    "    print( 'O maior:', x )\n",
    "print( 'Fim' )\n"
   ]
  },
  {
   "cell_type": "markdown",
   "id": "fb970427-4d4e-4c77-aac7-316e4d32d521",
   "metadata": {},
   "source": [
    "## ELIF e ELSE\n",
    "\n",
    "Haverá problemas específicos onde queremos avaliar outros testes condicionais ou mesmo executar instruções quando todas as condições lógicas resultarem em falso (``False``). O teste condicional ``elif`` deve vir após um teste ``if`` e será avaliado quando o teste condicional resultar em falso. Caso todos os testes anteriores forem falsos, podemos usar o ``else`` que deve vir seguido de um ``if`` ou ``elif``.\n",
    "\n",
    "O código abaixo ilustra um exemplo de testes condicionais com ``if/elif/else``. A estrutura do ``elif`` da linha 6 é semelhante ao ``if`` com uma expressão lógica e ``:`` para delimitar as instruções. O ``else`` da linha 8 executa seu bloco de instruções quando os testes do ``if`` e ``elif`` resultam em falso. Ele também tem um delimitador de instruções ``:`` sem qualquer expressão lógica.\n"
   ]
  },
  {
   "cell_type": "code",
   "execution_count": 2,
   "id": "e0c98027-20cb-4e63-83c7-113ae6966e63",
   "metadata": {},
   "outputs": [
    {
     "name": "stdout",
     "output_type": "stream",
     "text": [
      "O maior: 7\n",
      "Fim\n"
     ]
    }
   ],
   "source": [
    "x = 5\n",
    "y = 6\n",
    "z = 7\n",
    "if x > y:\n",
    "    print( 'O maior:', x )\n",
    "elif y > z:\n",
    "    print( 'O maior:', y )\n",
    "else:\n",
    "    print( 'O maior:', z )\n",
    "print('Fim')"
   ]
  },
  {
   "cell_type": "markdown",
   "id": "1b53e5b4-0f8b-4620-882f-6a78a9accab1",
   "metadata": {},
   "source": [
    "## Exercícios\n",
    "\n",
    "1. Calcule sua média final baseado em duas notas, e imprimir se foi aprovado ou não"
   ]
  },
  {
   "cell_type": "code",
   "execution_count": 4,
   "id": "e4937ce1-09b0-442f-9172-c3f1c1ed0314",
   "metadata": {},
   "outputs": [
    {
     "name": "stdin",
     "output_type": "stream",
     "text": [
      "Digite a 1a nota: 3\n",
      "Digite a 2a nota: 4\n"
     ]
    },
    {
     "name": "stdout",
     "output_type": "stream",
     "text": [
      "REPROVADO\n"
     ]
    }
   ],
   "source": [
    "# Pedimos as 2 notas do aluno\n",
    "n1 = float( input( 'Digite a 1a nota:' ) )\n",
    "n2 = float( input( 'Digite a 2a nota:' ) )\n",
    "\n",
    "# Calculamos a média\n",
    "media = (n1 + n2)/2\n",
    "\n",
    "# Precisamos testar o valor para saber se estava aprovado ou não\n",
    "if media >= 7.0:\n",
    "    print( 'APROVADO' )\n",
    "else:\n",
    "    print( 'REPROVADO' )\n"
   ]
  },
  {
   "cell_type": "markdown",
   "id": "4f43f5db-9eb0-4911-a7c1-c4c48a906d4f",
   "metadata": {},
   "source": [
    "2. Ler dois números, e imprimir o maior deles.\n"
   ]
  },
  {
   "cell_type": "code",
   "execution_count": 7,
   "id": "af6d2772-4989-4291-a7c9-52affcdb765f",
   "metadata": {},
   "outputs": [
    {
     "name": "stdin",
     "output_type": "stream",
     "text": [
      "Digite o 1o numero: 4\n",
      "Digite o 2o numero: 9\n"
     ]
    },
    {
     "name": "stdout",
     "output_type": "stream",
     "text": [
      "O maior e 9\n"
     ]
    }
   ],
   "source": [
    "# Pedimos 2 números inteiro\n",
    "n1 = int( input( 'Digite o 1o numero:' ) )\n",
    "n2 = int( input( 'Digite o 2o numero:' ) )\n",
    "\n",
    "# O maior deles é o n1?\n",
    "if n1 > n2:\n",
    "    print( 'O maior e', n1 )\n",
    "else: \n",
    "    # o maior é o n2!\n",
    "    print( 'O maior e', n2)"
   ]
  },
  {
   "cell_type": "markdown",
   "id": "bbf3f45f-d88f-472e-93fb-62233583d168",
   "metadata": {},
   "source": [
    "3. Faça um programa que lê ``a``, ``b`` e ``c`` de uma equação de 2o grau e diga se a equação possui:\n",
    "- Duas raízes reais\n",
    "- Uma raiz única\n",
    "- Nenhuma raiz"
   ]
  },
  {
   "cell_type": "code",
   "execution_count": 8,
   "id": "9c4adcb4-5b36-4515-ad14-83f9a1ebe947",
   "metadata": {},
   "outputs": [
    {
     "name": "stdin",
     "output_type": "stream",
     "text": [
      "Digite o valor de a: 1\n",
      "Digite o valor de b: 4\n",
      "Digite o valor de c: 1\n"
     ]
    },
    {
     "name": "stdout",
     "output_type": "stream",
     "text": [
      "Tem duas raiz reias\n"
     ]
    }
   ],
   "source": [
    "a = float( input( 'Digite o valor de a:' ) )\n",
    "b = float( input( 'Digite o valor de b:' ) )\n",
    "c = float( input( 'Digite o valor de c:' ) )\n",
    "\n",
    "# Precisa calcular o delta\n",
    "delta = b**2 - 4*a*c\n",
    "\n",
    "# Tem raiz?\n",
    "if delta > 0:\n",
    "    # Tem apenas uma raiz?\n",
    "    if delta == 0:\n",
    "        print( 'Tem uma raiz unica' )\n",
    "    else:\n",
    "        # É maior que 0 e não é 0? Então é positivo e tem raízes.\n",
    "        print( 'Tem duas raiz reais' )\n",
    "else:\n",
    "    print( 'Nenhuma raiz' )"
   ]
  },
  {
   "cell_type": "code",
   "execution_count": null,
   "id": "92895aa2-049e-4f4d-9ca7-52c118cc0191",
   "metadata": {},
   "outputs": [],
   "source": []
  }
 ],
 "metadata": {
  "kernelspec": {
   "display_name": "Python 3 (ipykernel)",
   "language": "python",
   "name": "python3"
  },
  "language_info": {
   "codemirror_mode": {
    "name": "ipython",
    "version": 3
   },
   "file_extension": ".py",
   "mimetype": "text/x-python",
   "name": "python",
   "nbconvert_exporter": "python",
   "pygments_lexer": "ipython3",
   "version": "3.11.2"
  }
 },
 "nbformat": 4,
 "nbformat_minor": 5
}
