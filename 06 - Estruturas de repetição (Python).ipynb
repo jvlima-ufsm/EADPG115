{
 "cells": [
  {
   "cell_type": "markdown",
   "id": "434bc34e-f2fe-4c34-a482-95566d67743b",
   "metadata": {},
   "source": [
    "# Estruturas de repetição versão Python\n",
    "\n",
    "Uma estrutura de repetição ou laço repete um conjunto de instruções por um número determinado ou não de vezes até que uma certa condição seja alcançada. A linguagem Python conta com duas estruturas de repetição: ``while`` e ``for``.\n",
    "\n",
    "## while\n",
    "\n",
    "O código abaixo mostra um exemplo simples de laço onde repetimos 5x um comando para imprimir a frase ``Olá mundo!``. A linha 5 inicia uma variável ``i`` com zero para ser um contador, ou seja, um valor que determina o número de repetições executadas. A laço repete suas instruções enquanto ``i`` é menor que cinco na linha 2. A linha 4 incrementa o contador ``i`` que será testado novamente na linha 2. Note que o intervalo de valores para ``i`` está entre ``[0, 5`` pois quando o valor de ``i`` é igual a cinco a condição será falsa e o laço será interrompido."
   ]
  },
  {
   "cell_type": "code",
   "execution_count": 1,
   "id": "44939265-d806-40f1-a24b-75c0924e893f",
   "metadata": {},
   "outputs": [
    {
     "name": "stdout",
     "output_type": "stream",
     "text": [
      "Ola mundo!\n",
      "Ola mundo!\n",
      "Ola mundo!\n",
      "Ola mundo!\n",
      "Ola mundo!\n"
     ]
    }
   ],
   "source": [
    "i = 0\n",
    "while i < 5:\n",
    "    print( \"Ola mundo!\" )\n",
    "    i= i + 1"
   ]
  },
  {
   "cell_type": "markdown",
   "id": "0c7ea411-ab00-4619-8696-d33125b79ed1",
   "metadata": {},
   "source": [
    "Outra forma de usar laços ``while`` é quando não temos um número determinado de repetições até que a condição testada seja atendida. O exemplo abaixo mostra um programa que entra em um laço enquanto a senha estiver incorreta. O programa pede a senha na linha 1 e testa se ela está incorreta solicitando novamente até o usuário digitar ``elefante``. Note que o número de repetições ficou indefinido sendo até que a condição ``senha correta`` seja atingida."
   ]
  },
  {
   "cell_type": "code",
   "execution_count": 2,
   "id": "29def5a2-6fcd-4a60-90b2-1bcdcc1a2b63",
   "metadata": {},
   "outputs": [
    {
     "name": "stdin",
     "output_type": "stream",
     "text": [
      "Digite sua senha:  nada\n",
      "Senha errada! Digite novamente: nada\n",
      "Senha errada! Digite novamente: elefante\n"
     ]
    },
    {
     "name": "stdout",
     "output_type": "stream",
     "text": [
      "Senha correta! Bem vindo.\n"
     ]
    }
   ],
   "source": [
    "senha= input( 'Digite sua senha: ')\n",
    "while senha != 'elefante':\n",
    "    senha = input( 'Senha errada! Digite novamente:' )\n",
    "print( 'Senha correta! Bem vindo.' )"
   ]
  },
  {
   "cell_type": "markdown",
   "id": "ecdb30ea-de6e-414c-b9a6-506f9ba3e85e",
   "metadata": {},
   "source": [
    "Outra forma de criar laços sem repetições determinadas é ao utilizar a instrução ``break`` que faz com que o laço seja interrompido. O exemplo abaixo mostra o programa anterior com a instrução ``break`` como critério de parada. Note que  o teste condicional do laço ``while`` tem apenas o valor ``True`` o que faz dele um laço sem condição de parada. A linha 3 é responsável pela condição de parada e testa se a senha está correta. Em caso afirmativo a instrução ``break`` interrompe o laço."
   ]
  },
  {
   "cell_type": "code",
   "execution_count": null,
   "id": "345a4e88-ce03-48a3-af11-805b999c7f3f",
   "metadata": {},
   "outputs": [],
   "source": [
    "while True:\n",
    "    senha = input( 'Digite a senha:' )\n",
    "    if senha == 'elefante':\n",
    "        break\n",
    "print( 'Senha correta! Bem vindo.' )"
   ]
  },
  {
   "cell_type": "markdown",
   "id": "9958bf32-27a7-46bc-8992-2fa11bc700d7",
   "metadata": {},
   "source": [
    "## for\n",
    "\n",
    "Uma estrutura de laço ``for`` repete um conjunto de instruções com um número de repetições determinado.  O exemplo abaixo mostra um exemplo simples de laço onde repetimos 5x um comando para imprimir a frase ``Olá mundo!``. A variável ``i`` logo após a palavra-chave ``for`` é chamada de índice do laço que assume cada um dos valores da sequência ``range(5)`` e executa o bloco de instruções para cada valor. A função ``range()`` recebe um inteiro como argumento e gera uma sequência de números ."
   ]
  },
  {
   "cell_type": "code",
   "execution_count": 3,
   "id": "310095d5-8e99-4445-9259-1e742ebab09d",
   "metadata": {},
   "outputs": [
    {
     "name": "stdout",
     "output_type": "stream",
     "text": [
      "Ola mundo!\n",
      "Ola mundo!\n",
      "Ola mundo!\n",
      "Ola mundo!\n",
      "Ola mundo!\n"
     ]
    }
   ],
   "source": [
    "for i in range(5):\n",
    "    print( 'Ola mundo!' )"
   ]
  },
  {
   "cell_type": "markdown",
   "id": "ecb94999-a793-4f10-a3b7-b75875b4e8e5",
   "metadata": {},
   "source": [
    "O laço abaixo é semelhante ao laço anterior mas usa-se explicitamente uma lista de elementos. Nota-se que os valores impressos de ``i`` são cada um dos elementos da lista de dados."
   ]
  },
  {
   "cell_type": "code",
   "execution_count": 4,
   "id": "c3c2db7f-b696-42f5-8cc9-c8515fd6a11b",
   "metadata": {},
   "outputs": [
    {
     "name": "stdout",
     "output_type": "stream",
     "text": [
      "0\n",
      "1\n",
      "2\n",
      "3\n",
      "4\n"
     ]
    }
   ],
   "source": [
    "for i in [0, 1, 2, 3, 4]:\n",
    "    print( i )"
   ]
  },
  {
   "cell_type": "markdown",
   "id": "7fadc2f1-f30a-4bdc-8362-8adfa3956d48",
   "metadata": {},
   "source": [
    "# Exemplos\n",
    "\n",
    "\n",
    "Imprime os valores do ``range()``:"
   ]
  },
  {
   "cell_type": "code",
   "execution_count": 11,
   "id": "b08e673d-8801-47a6-8458-cb4d044391d5",
   "metadata": {},
   "outputs": [
    {
     "name": "stdout",
     "output_type": "stream",
     "text": [
      "0\n",
      "1\n",
      "2\n",
      "3\n",
      "4\n"
     ]
    }
   ],
   "source": [
    "for num in range(5):\n",
    "\tprint( num )"
   ]
  },
  {
   "cell_type": "markdown",
   "id": "cb1fe083-413f-4403-91a8-8af1c96bcd4c",
   "metadata": {},
   "source": [
    "Imprime os valores do contador:"
   ]
  },
  {
   "cell_type": "code",
   "execution_count": 13,
   "id": "6441efb7-4c8c-4640-843e-3d698041794f",
   "metadata": {},
   "outputs": [
    {
     "name": "stdout",
     "output_type": "stream",
     "text": [
      "0\n",
      "1\n",
      "2\n",
      "3\n",
      "4\n"
     ]
    }
   ],
   "source": [
    "contador = 0\n",
    "while contador < 5:\n",
    "\tprint( contador )\n",
    "\tcontador = contador + 1"
   ]
  },
  {
   "cell_type": "markdown",
   "id": "25af1d5f-d998-443d-a882-a2705f6c7a9b",
   "metadata": {},
   "source": [
    "Mostra uma sequência de números no ``for``."
   ]
  },
  {
   "cell_type": "code",
   "execution_count": 9,
   "id": "d2c6c9ed-ec3f-41e8-a7e2-7a4557db947f",
   "metadata": {},
   "outputs": [
    {
     "name": "stdout",
     "output_type": "stream",
     "text": [
      "9\n",
      "12\n",
      "13\n",
      "23\n",
      "24\n"
     ]
    }
   ],
   "source": [
    "for num in 9, 12, 13, 23, 24:\n",
    "\tprint( num )"
   ]
  },
  {
   "cell_type": "markdown",
   "id": "bf4ea634-98c1-41ba-a9a3-faab9c5c6158",
   "metadata": {},
   "source": [
    "Elabore um programa para que calcule a soma dos 100 primeiros termos da série harmônica: ``1/1 + 1/2 + 1/3 + 1/4 + 1/5 + ....``\n",
    "\n",
    "Exemplo com ``while``:"
   ]
  },
  {
   "cell_type": "code",
   "execution_count": 5,
   "id": "71a7a9c9-1e06-423b-a173-99390dcc9479",
   "metadata": {},
   "outputs": [
    {
     "name": "stdout",
     "output_type": "stream",
     "text": [
      "O valor da série harmônica é 5.187377517639621\n"
     ]
    }
   ],
   "source": [
    "soma = 0.0\n",
    "i = 1\n",
    "while i <= 100:\n",
    "  soma = soma + 1 / i\n",
    "  i = i + 1\n",
    "\n",
    "print(\"O valor da série harmônica é\", soma)"
   ]
  },
  {
   "cell_type": "markdown",
   "id": "9a26fc90-c472-4d94-a68a-6b5b3078b030",
   "metadata": {},
   "source": [
    "Exemplo em `for`:"
   ]
  },
  {
   "cell_type": "code",
   "execution_count": 6,
   "id": "c306a441-4f62-4f56-91b6-d05e0f87936f",
   "metadata": {},
   "outputs": [
    {
     "name": "stdout",
     "output_type": "stream",
     "text": [
      "O valor da série harmônica é 5.187377517639621\n"
     ]
    }
   ],
   "source": [
    "soma = 0.0\n",
    "for i in range(100):\n",
    "    soma = soma + 1 / (i+1)\n",
    "\n",
    "print(\"O valor da série harmônica é\", soma)"
   ]
  },
  {
   "cell_type": "markdown",
   "id": "230c3c20-6e6f-440b-822c-4487d6b5a74d",
   "metadata": {},
   "source": [
    "Elabore um programa que leia 10 valores e imprima o maior deles no final."
   ]
  },
  {
   "cell_type": "code",
   "execution_count": 8,
   "id": "74485bfa-c242-4684-8c08-721ccf8c91e0",
   "metadata": {},
   "outputs": [
    {
     "name": "stdin",
     "output_type": "stream",
     "text": [
      "Digite um valor: 23\n",
      "Digite um valor: 3\n",
      "Digite um valor: 2\n",
      "Digite um valor: 1\n",
      "Digite um valor: 39\n",
      "Digite um valor: 2\n",
      "Digite um valor: 1\n",
      "Digite um valor: 2\n",
      "Digite um valor: 3\n",
      "Digite um valor: 4\n"
     ]
    },
    {
     "name": "stdout",
     "output_type": "stream",
     "text": [
      "Maior valor = 39\n"
     ]
    }
   ],
   "source": [
    "### O primeiro número é lido aqui. Ele será o 1o maior\n",
    "maior = int( input(\"Digite um valor:\") )\n",
    "for i in range(9):\n",
    "\tvalor = int( input(\"Digite um valor:\") )\n",
    "\tif valor > maior: # esse é o maior agora?\n",
    "\t\tmaior = valor\n",
    "\n",
    "print( \"Maior valor =\", maior )"
   ]
  },
  {
   "cell_type": "markdown",
   "id": "fa97e4e5-092b-498b-921a-dea7f53b28e1",
   "metadata": {},
   "source": [
    "Elabore um programa que imprime uma matriz identidade de tamanho 10x10."
   ]
  },
  {
   "cell_type": "code",
   "execution_count": 14,
   "id": "9872dd66-2778-49b2-b58b-b6c1b7791327",
   "metadata": {},
   "outputs": [
    {
     "name": "stdout",
     "output_type": "stream",
     "text": [
      "1 0 0 0 0 0 0 0 0 0 \n",
      "0 1 0 0 0 0 0 0 0 0 \n",
      "0 0 1 0 0 0 0 0 0 0 \n",
      "0 0 0 1 0 0 0 0 0 0 \n",
      "0 0 0 0 1 0 0 0 0 0 \n",
      "0 0 0 0 0 1 0 0 0 0 \n",
      "0 0 0 0 0 0 1 0 0 0 \n",
      "0 0 0 0 0 0 0 1 0 0 \n",
      "0 0 0 0 0 0 0 0 1 0 \n",
      "0 0 0 0 0 0 0 0 0 1 \n"
     ]
    }
   ],
   "source": [
    "n = 10\n",
    "for i in range(n):\n",
    "\tfor j in range(n):\n",
    "\t\tif i == j:\n",
    "\t\t\tprint( '1 ', end='' ) # 'end' muda o fim da linha\n",
    "\t\telse:\n",
    "\t\t\tprint( '0 ', end='' )\n",
    "\tprint('')"
   ]
  },
  {
   "cell_type": "code",
   "execution_count": null,
   "id": "e10a677e-66a7-4510-a6be-63211b3eb782",
   "metadata": {},
   "outputs": [],
   "source": []
  }
 ],
 "metadata": {
  "kernelspec": {
   "display_name": "Python 3 (ipykernel)",
   "language": "python",
   "name": "python3"
  },
  "language_info": {
   "codemirror_mode": {
    "name": "ipython",
    "version": 3
   },
   "file_extension": ".py",
   "mimetype": "text/x-python",
   "name": "python",
   "nbconvert_exporter": "python",
   "pygments_lexer": "ipython3",
   "version": "3.11.2"
  }
 },
 "nbformat": 4,
 "nbformat_minor": 5
}
