{
 "cells": [
  {
   "cell_type": "markdown",
   "id": "09ff4161-f32b-4b41-8c4f-f7c97a0adbd0",
   "metadata": {},
   "source": [
    "# Estudo de caso em R\n",
    "\n",
    "Os dados usados nesta análise está disponíveis no site abaixo em \"Recursos\", depois \"Benefícios concedidos maio 2023\n",
    "\":\n",
    "- https://dados.gov.br/dados/conjuntos-dados/inss-beneficios-concedidos1\n",
    "\n",
    "O exemplo abaixo repete a análise mostrada anteriormente agora feita na linguagem R. Usamos opções adicionais devido ao formato da planilha: ``sep`` para usar o separador ``;`` das colunas, ``fileEncoding`` para definir a codificação de caracteres como acentos. A saída do código mostra as colunas lidas de um total de 508 mil linhas.\n"
   ]
  },
  {
   "cell_type": "code",
   "execution_count": 2,
   "id": "2314843b-adb5-40c8-a142-50de36962e91",
   "metadata": {},
   "outputs": [
    {
     "data": {
      "text/plain": [
       " Competência.concessão   Espécie              CID              Despacho        \n",
       " Min.   :202305        Length:508583      Length:508583      Length:508583     \n",
       " 1st Qu.:202305        Class :character   Class :character   Class :character  \n",
       " Median :202305        Mode  :character   Mode  :character   Mode  :character  \n",
       " Mean   :202305                                                                \n",
       " 3rd Qu.:202305                                                                \n",
       " Max.   :202305                                                                \n",
       " Dt.Nascimento         Sexo.            Clientela         Tipo.de.Cálculo   \n",
       " Length:508583      Length:508583      Length:508583      Length:508583     \n",
       " Class :character   Class :character   Class :character   Class :character  \n",
       " Mode  :character   Mode  :character   Mode  :character   Mode  :character  \n",
       "                                                                            \n",
       "                                                                            \n",
       "                                                                            \n",
       "  Mun.Resid         Vínculo.dependentes Forma.Filiação          UF           \n",
       " Length:508583      Length:508583       Length:508583      Length:508583     \n",
       " Class :character   Class :character    Class :character   Class :character  \n",
       " Mode  :character   Mode  :character    Mode  :character   Mode  :character  \n",
       "                                                                             \n",
       "                                                                             \n",
       "                                                                             \n",
       "  Qt.SM.RMI        \n",
       " Length:508583     \n",
       " Class :character  \n",
       " Mode  :character  \n",
       "                   \n",
       "                   \n",
       "                   "
      ]
     },
     "metadata": {},
     "output_type": "display_data"
    }
   ],
   "source": [
    "inss_maio_2023 <- read.csv('D.SDA.PDA.001.CON.202305.csv', sep=';', fileEncoding=\"latin1\")\n",
    "summary(inss_maio_2023)"
   ]
  },
  {
   "cell_type": "markdown",
   "id": "01dd50d4-3b6e-4cf7-9fb2-8a7aafc923a2",
   "metadata": {},
   "source": [
    "Abaixo segue uma amostra dos dados da tabela com a função ``head()``."
   ]
  },
  {
   "cell_type": "code",
   "execution_count": 3,
   "id": "5448c712-cbac-49c8-aeb3-26446e44eba5",
   "metadata": {},
   "outputs": [
    {
     "data": {
      "text/html": [
       "<table class=\"dataframe\">\n",
       "<caption>A data.frame: 6 × 13</caption>\n",
       "<thead>\n",
       "\t<tr><th></th><th scope=col>Competência.concessão</th><th scope=col>Espécie</th><th scope=col>CID</th><th scope=col>Despacho</th><th scope=col>Dt.Nascimento</th><th scope=col>Sexo.</th><th scope=col>Clientela</th><th scope=col>Tipo.de.Cálculo</th><th scope=col>Mun.Resid</th><th scope=col>Vínculo.dependentes</th><th scope=col>Forma.Filiação</th><th scope=col>UF</th><th scope=col>Qt.SM.RMI</th></tr>\n",
       "\t<tr><th></th><th scope=col>&lt;int&gt;</th><th scope=col>&lt;chr&gt;</th><th scope=col>&lt;chr&gt;</th><th scope=col>&lt;chr&gt;</th><th scope=col>&lt;chr&gt;</th><th scope=col>&lt;chr&gt;</th><th scope=col>&lt;chr&gt;</th><th scope=col>&lt;chr&gt;</th><th scope=col>&lt;chr&gt;</th><th scope=col>&lt;chr&gt;</th><th scope=col>&lt;chr&gt;</th><th scope=col>&lt;chr&gt;</th><th scope=col>&lt;chr&gt;</th></tr>\n",
       "</thead>\n",
       "<tbody>\n",
       "\t<tr><th scope=row>1</th><td>202305</td><td>Amp. Social Pessoa Portadora Deficiencia     </td><td>G80.9 Paralisia Cerebral Infantil Ne         </td><td>Concessao Normal                        </td><td>07/05/2022</td><td>Masculino    </td><td>Urbano  </td><td>Rmi Informada/Salario Mi</td><td>04084-BA-Conceição do Coité              </td><td>Não Informado</td><td>Desempregado       </td><td>Alagoas            </td><td>  1,000</td></tr>\n",
       "\t<tr><th scope=row>2</th><td>202305</td><td>Aposentadoria por Idade                      </td><td>Zerados                                      </td><td>Concessao Normal                        </td><td>11/02/1963</td><td>Masculino    </td><td>Rural   </td><td>Rmi Informada/Salario Mi</td><td>04237-BA-Paramirim                       </td><td>Não Informado</td><td>Segurado Especial  </td><td>Alagoas            </td><td>  1,000</td></tr>\n",
       "\t<tr><th scope=row>3</th><td>202305</td><td>Aposentadoria por Idade                      </td><td>Zerados                                      </td><td>Concessao em Fase Recursal              </td><td>09/09/1958</td><td>Feminino     </td><td>Urbano  </td><td>Calculo Pelas Regras Vig</td><td>19214-RS-Taquari                         </td><td>Não Informado</td><td>Autônomo           </td><td>Alagoas            </td><td>  1,000</td></tr>\n",
       "\t<tr><th scope=row>4</th><td>202305</td><td>Amp. Social Pessoa Portadora Deficiencia     </td><td>G91   Hidrocefalia                           </td><td>Concessao Normal                        </td><td>04/07/2021</td><td>Masculino    </td><td>Urbano  </td><td>Rmi Informada/Salario Mi</td><td>22029-SE-Itabaiana                       </td><td>Não Informado</td><td>Desempregado       </td><td>Alagoas            </td><td>  1,000</td></tr>\n",
       "\t<tr><th scope=row>5</th><td>202305</td><td>Amp. Social Pessoa Portadora Deficiencia     </td><td>F84.0 Autismo Infantil                       </td><td>Concessao Normal                        </td><td>05/01/2016</td><td>Masculino    </td><td>Urbano  </td><td>Rmi Informada/Salario Mi</td><td>05134-CE-Tauá                            </td><td>Não Informado</td><td>Desempregado       </td><td>Alagoas            </td><td>  1,000</td></tr>\n",
       "\t<tr><th scope=row>6</th><td>202305</td><td>Amp. Social Pessoa Portadora Deficiencia     </td><td>G04.9 Encefalite Mielite e Encefalomielite Ne</td><td>Concessao Normal                        </td><td>26/04/2000</td><td>Masculino    </td><td>Urbano  </td><td>Rmi Informada/Salario Mi</td><td>13154-PB-Sapé                            </td><td>Não Informado</td><td>Desempregado       </td><td>Alagoas            </td><td>  1,000</td></tr>\n",
       "</tbody>\n",
       "</table>\n"
      ],
      "text/latex": [
       "A data.frame: 6 × 13\n",
       "\\begin{tabular}{r|lllllllllllll}\n",
       "  & Competência.concessão & Espécie & CID & Despacho & Dt.Nascimento & Sexo. & Clientela & Tipo.de.Cálculo & Mun.Resid & Vínculo.dependentes & Forma.Filiação & UF & Qt.SM.RMI\\\\\n",
       "  & <int> & <chr> & <chr> & <chr> & <chr> & <chr> & <chr> & <chr> & <chr> & <chr> & <chr> & <chr> & <chr>\\\\\n",
       "\\hline\n",
       "\t1 & 202305 & Amp. Social Pessoa Portadora Deficiencia      & G80.9 Paralisia Cerebral Infantil Ne          & Concessao Normal                         & 07/05/2022 & Masculino     & Urbano   & Rmi Informada/Salario Mi & 04084-BA-Conceição do Coité               & Não Informado & Desempregado        & Alagoas             &   1,000\\\\\n",
       "\t2 & 202305 & Aposentadoria por Idade                       & Zerados                                       & Concessao Normal                         & 11/02/1963 & Masculino     & Rural    & Rmi Informada/Salario Mi & 04237-BA-Paramirim                        & Não Informado & Segurado Especial   & Alagoas             &   1,000\\\\\n",
       "\t3 & 202305 & Aposentadoria por Idade                       & Zerados                                       & Concessao em Fase Recursal               & 09/09/1958 & Feminino      & Urbano   & Calculo Pelas Regras Vig & 19214-RS-Taquari                          & Não Informado & Autônomo            & Alagoas             &   1,000\\\\\n",
       "\t4 & 202305 & Amp. Social Pessoa Portadora Deficiencia      & G91   Hidrocefalia                            & Concessao Normal                         & 04/07/2021 & Masculino     & Urbano   & Rmi Informada/Salario Mi & 22029-SE-Itabaiana                        & Não Informado & Desempregado        & Alagoas             &   1,000\\\\\n",
       "\t5 & 202305 & Amp. Social Pessoa Portadora Deficiencia      & F84.0 Autismo Infantil                        & Concessao Normal                         & 05/01/2016 & Masculino     & Urbano   & Rmi Informada/Salario Mi & 05134-CE-Tauá                             & Não Informado & Desempregado        & Alagoas             &   1,000\\\\\n",
       "\t6 & 202305 & Amp. Social Pessoa Portadora Deficiencia      & G04.9 Encefalite Mielite e Encefalomielite Ne & Concessao Normal                         & 26/04/2000 & Masculino     & Urbano   & Rmi Informada/Salario Mi & 13154-PB-Sapé                             & Não Informado & Desempregado        & Alagoas             &   1,000\\\\\n",
       "\\end{tabular}\n"
      ],
      "text/markdown": [
       "\n",
       "A data.frame: 6 × 13\n",
       "\n",
       "| <!--/--> | Competência.concessão &lt;int&gt; | Espécie &lt;chr&gt; | CID &lt;chr&gt; | Despacho &lt;chr&gt; | Dt.Nascimento &lt;chr&gt; | Sexo. &lt;chr&gt; | Clientela &lt;chr&gt; | Tipo.de.Cálculo &lt;chr&gt; | Mun.Resid &lt;chr&gt; | Vínculo.dependentes &lt;chr&gt; | Forma.Filiação &lt;chr&gt; | UF &lt;chr&gt; | Qt.SM.RMI &lt;chr&gt; |\n",
       "|---|---|---|---|---|---|---|---|---|---|---|---|---|---|\n",
       "| 1 | 202305 | Amp. Social Pessoa Portadora Deficiencia      | G80.9 Paralisia Cerebral Infantil Ne          | Concessao Normal                         | 07/05/2022 | Masculino     | Urbano   | Rmi Informada/Salario Mi | 04084-BA-Conceição do Coité               | Não Informado | Desempregado        | Alagoas             |   1,000 |\n",
       "| 2 | 202305 | Aposentadoria por Idade                       | Zerados                                       | Concessao Normal                         | 11/02/1963 | Masculino     | Rural    | Rmi Informada/Salario Mi | 04237-BA-Paramirim                        | Não Informado | Segurado Especial   | Alagoas             |   1,000 |\n",
       "| 3 | 202305 | Aposentadoria por Idade                       | Zerados                                       | Concessao em Fase Recursal               | 09/09/1958 | Feminino      | Urbano   | Calculo Pelas Regras Vig | 19214-RS-Taquari                          | Não Informado | Autônomo            | Alagoas             |   1,000 |\n",
       "| 4 | 202305 | Amp. Social Pessoa Portadora Deficiencia      | G91   Hidrocefalia                            | Concessao Normal                         | 04/07/2021 | Masculino     | Urbano   | Rmi Informada/Salario Mi | 22029-SE-Itabaiana                        | Não Informado | Desempregado        | Alagoas             |   1,000 |\n",
       "| 5 | 202305 | Amp. Social Pessoa Portadora Deficiencia      | F84.0 Autismo Infantil                        | Concessao Normal                         | 05/01/2016 | Masculino     | Urbano   | Rmi Informada/Salario Mi | 05134-CE-Tauá                             | Não Informado | Desempregado        | Alagoas             |   1,000 |\n",
       "| 6 | 202305 | Amp. Social Pessoa Portadora Deficiencia      | G04.9 Encefalite Mielite e Encefalomielite Ne | Concessao Normal                         | 26/04/2000 | Masculino     | Urbano   | Rmi Informada/Salario Mi | 13154-PB-Sapé                             | Não Informado | Desempregado        | Alagoas             |   1,000 |\n",
       "\n"
      ],
      "text/plain": [
       "  Competência.concessão Espécie                                      \n",
       "1 202305                Amp. Social Pessoa Portadora Deficiencia     \n",
       "2 202305                Aposentadoria por Idade                      \n",
       "3 202305                Aposentadoria por Idade                      \n",
       "4 202305                Amp. Social Pessoa Portadora Deficiencia     \n",
       "5 202305                Amp. Social Pessoa Portadora Deficiencia     \n",
       "6 202305                Amp. Social Pessoa Portadora Deficiencia     \n",
       "  CID                                          \n",
       "1 G80.9 Paralisia Cerebral Infantil Ne         \n",
       "2 Zerados                                      \n",
       "3 Zerados                                      \n",
       "4 G91   Hidrocefalia                           \n",
       "5 F84.0 Autismo Infantil                       \n",
       "6 G04.9 Encefalite Mielite e Encefalomielite Ne\n",
       "  Despacho                                 Dt.Nascimento Sexo.        \n",
       "1 Concessao Normal                         07/05/2022    Masculino    \n",
       "2 Concessao Normal                         11/02/1963    Masculino    \n",
       "3 Concessao em Fase Recursal               09/09/1958    Feminino     \n",
       "4 Concessao Normal                         04/07/2021    Masculino    \n",
       "5 Concessao Normal                         05/01/2016    Masculino    \n",
       "6 Concessao Normal                         26/04/2000    Masculino    \n",
       "  Clientela Tipo.de.Cálculo          Mun.Resid                                \n",
       "1 Urbano    Rmi Informada/Salario Mi 04084-BA-Conceição do Coité              \n",
       "2 Rural     Rmi Informada/Salario Mi 04237-BA-Paramirim                       \n",
       "3 Urbano    Calculo Pelas Regras Vig 19214-RS-Taquari                         \n",
       "4 Urbano    Rmi Informada/Salario Mi 22029-SE-Itabaiana                       \n",
       "5 Urbano    Rmi Informada/Salario Mi 05134-CE-Tauá                            \n",
       "6 Urbano    Rmi Informada/Salario Mi 13154-PB-Sapé                            \n",
       "  Vínculo.dependentes Forma.Filiação      UF                  Qt.SM.RMI\n",
       "1 Não Informado       Desempregado        Alagoas               1,000  \n",
       "2 Não Informado       Segurado Especial   Alagoas               1,000  \n",
       "3 Não Informado       Autônomo            Alagoas               1,000  \n",
       "4 Não Informado       Desempregado        Alagoas               1,000  \n",
       "5 Não Informado       Desempregado        Alagoas               1,000  \n",
       "6 Não Informado       Desempregado        Alagoas               1,000  "
      ]
     },
     "metadata": {},
     "output_type": "display_data"
    }
   ],
   "source": [
    "head( inss_maio_2023 )"
   ]
  },
  {
   "cell_type": "markdown",
   "id": "395fc8cc-4995-45b6-a787-b9a51cb06ad3",
   "metadata": {},
   "source": [
    "A análise de pedidos de auxílio doença entre as áreas urbanas e rural é mostrada abaixo. A informação sobre áreas está na coluna ``Clientela``. Esta análise faz uso de um pacote adicional chamado ``dplyr`` que importa uma gramática de análise e manipulação de dados em R. Primeiro, selecionamos todas as linhas que possuem ``Doenca`` na coluna ``Espécie`` na linha 2 e o resultado é salvo no DataFrame ``inss_doenca``. Note que acessamos a coluna com crase em ```Espécie``` porque nomes de colunas com espaços ou acentos precisam ser escritos nesse formato. Na linha 3 usamos a gramática do pacote ``dplyr`` para agrupar os dados pela coluna ``Clientela`` com a função ``group_by()`` e contar as ocorrências de cada valor com ``n()`` dentro da função ``summarise()``. "
   ]
  },
  {
   "cell_type": "code",
   "execution_count": 4,
   "id": "d1c17fff-f99a-403b-976f-80098af6623e",
   "metadata": {},
   "outputs": [
    {
     "name": "stderr",
     "output_type": "stream",
     "text": [
      "Loading required package: dplyr\n",
      "\n",
      "\n",
      "Attaching package: ‘dplyr’\n",
      "\n",
      "\n",
      "The following objects are masked from ‘package:stats’:\n",
      "\n",
      "    filter, lag\n",
      "\n",
      "\n",
      "The following objects are masked from ‘package:base’:\n",
      "\n",
      "    intersect, setdiff, setequal, union\n",
      "\n",
      "\n"
     ]
    },
    {
     "data": {
      "text/html": [
       "<table class=\"dataframe\">\n",
       "<caption>A tibble: 2 × 2</caption>\n",
       "<thead>\n",
       "\t<tr><th scope=col>Clientela</th><th scope=col>n</th></tr>\n",
       "\t<tr><th scope=col>&lt;chr&gt;</th><th scope=col>&lt;int&gt;</th></tr>\n",
       "</thead>\n",
       "<tbody>\n",
       "\t<tr><td>Rural   </td><td> 14767</td></tr>\n",
       "\t<tr><td>Urbano  </td><td>183614</td></tr>\n",
       "</tbody>\n",
       "</table>\n"
      ],
      "text/latex": [
       "A tibble: 2 × 2\n",
       "\\begin{tabular}{ll}\n",
       " Clientela & n\\\\\n",
       " <chr> & <int>\\\\\n",
       "\\hline\n",
       "\t Rural    &  14767\\\\\n",
       "\t Urbano   & 183614\\\\\n",
       "\\end{tabular}\n"
      ],
      "text/markdown": [
       "\n",
       "A tibble: 2 × 2\n",
       "\n",
       "| Clientela &lt;chr&gt; | n &lt;int&gt; |\n",
       "|---|---|\n",
       "| Rural    |  14767 |\n",
       "| Urbano   | 183614 |\n",
       "\n"
      ],
      "text/plain": [
       "  Clientela n     \n",
       "1 Rural      14767\n",
       "2 Urbano    183614"
      ]
     },
     "metadata": {},
     "output_type": "display_data"
    }
   ],
   "source": [
    "require(dplyr)\n",
    "\n",
    "inss_doenca <- inss_maio_2023[grep('Doenca', inss_maio_2023$`Espécie`), ]\n",
    "inss_doenca %>%\n",
    "    group_by(Clientela) %>%\n",
    "    summarise(\n",
    "        n = n()\n",
    "    )"
   ]
  },
  {
   "cell_type": "markdown",
   "id": "ed8b028d-4220-440b-bfb3-e9030e132e31",
   "metadata": {},
   "source": [
    "O exemplo abaixo mostra a segunda análise sobre a idade dos beneficiários baseada na data de nascimento. Para tanto, precisamos usar a coluna ``Dt.Nascimento`` para converter de string para data e calcular a idade com relação a data atual. Neste exemplo importamos mais dois pacotes R ``lubridate`` para funções com datas e ``ggplot2`` para gráficos. A linha 4 usa a conversão ``as.Date()`` para converter a coluna ``Dt.Nascimento`` em data.  A linha 5 calcula a diferença entre os anos de cada data usando funções do pacote “lubridate”. A linha 7 gera o gráfico de histograma a partir da coluna ``Idade``. O gráfico gerado é semelhante ao anterior gerado com Pandas com esperado."
   ]
  },
  {
   "cell_type": "code",
   "execution_count": 51,
   "id": "811f2a63-fb06-4330-a432-2234b460af04",
   "metadata": {},
   "outputs": [
    {
     "name": "stderr",
     "output_type": "stream",
     "text": [
      "\u001b[1m\u001b[22m`stat_bin()` using `bins = 30`. Pick better value with `binwidth`.\n"
     ]
    },
    {
     "data": {
      "image/png": "[encoded data removed]",
      "text/plain": [
       "plot without title"
      ]
     },
     "metadata": {
      "image/png": {
       "height": 420,
       "width": 420
      }
     },
     "output_type": "display_data"
    }
   ],
   "source": [
    "require(lubridate)\n",
    "require(ggplot2) \n",
    "\n",
    "inss_maio_2023$`Nascimento` <- as.Date(inss_maio_2023$`Dt.Nascimento`, format='%d/%m/%Y')\n",
    "inss_maio_2023$Idade <- year(Sys.Date()) - year(inss_maio_2023$`Nascimento`)\n",
    "\n",
    "ggplot(inss_maio_2023, aes(Idade)) +\n",
    "    geom_histogram(na.rm = TRUE)"
   ]
  },
  {
   "cell_type": "markdown",
   "id": "88cf1621-4f84-459e-ba9b-bfccc6cd0e76",
   "metadata": {},
   "source": [
    "O R tem uma documentação extensa disponível através do comando ``?`` seguido do nome da função como no exemplo abaixo."
   ]
  },
  {
   "cell_type": "code",
   "execution_count": 11,
   "id": "30a006ec-fece-4e99-9bc4-bca27005a712",
   "metadata": {},
   "outputs": [
    {
     "data": {
      "text/plain": [
       "R Information\n",
       "\n",
       "Help files with alias or concept or title matching ‘geom_freqpoly’\n",
       "using regular expression matching:\n",
       "\n",
       "\n",
       "ggplot2::geom_freqpoly\n",
       "                        Histograms and frequency polygons\n",
       "  Aliases: geom_freqpoly\n",
       "\n",
       "\n",
       "Type '?PKG::FOO' to inspect entries 'PKG::FOO', or 'TYPE?PKG::FOO' for\n",
       "entries like 'PKG::FOO-TYPE'.\n",
       "\n",
       "\n"
      ]
     },
     "metadata": {},
     "output_type": "display_data"
    }
   ],
   "source": [
    "??geom_freqpoly"
   ]
  },
  {
   "cell_type": "code",
   "execution_count": null,
   "id": "443c2a24-b93a-4462-8b92-88830160f349",
   "metadata": {},
   "outputs": [],
   "source": []
  }
 ],
 "metadata": {
  "kernelspec": {
   "display_name": "R",
   "language": "R",
   "name": "ir"
  },
  "language_info": {
   "codemirror_mode": "r",
   "file_extension": ".r",
   "mimetype": "text/x-r-source",
   "name": "R",
   "pygments_lexer": "r",
   "version": "4.0.4"
  }
 },
 "nbformat": 4,
 "nbformat_minor": 5
}
