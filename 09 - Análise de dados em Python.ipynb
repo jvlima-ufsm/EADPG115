{
 "cells": [
  {
   "cell_type": "markdown",
   "id": "34293421-34c3-4150-b18f-68a9586fbd91",
   "metadata": {},
   "source": [
    "# Análise de dados em Python\n",
    "\n",
    "Usaremos como exemplo de análise de dados o pacote ``pandas`` que suporta estruturas de dados flexíveis para manipulação e análise. Os principais usos de Pandas são: dados em tabelas de bancos de dados ou planilhas; séries temporais ordenadas ou não; matrizes homogêneas ou não; e conjuntos de dados estatísticos.\n",
    "\n",
    "O Pandas suporta basicamente dois tipos de estruturas de dados:\n",
    "- ``Series`` - dados de uma dimensão (1D)\n",
    "- ``DataFrame`` - tabela de duas dimensões (2D)\n",
    "  \n",
    "O código abaixo mostra o exemplo de uso do Pandas para criação de uma Series com números, e o próximo mostra a criação de um DataFrame com nome, idade e sexo. O comando para importar pacotes em Python é o ``import`` como mostrado na linha 1."
   ]
  },
  {
   "cell_type": "code",
   "execution_count": 7,
   "id": "c41872c3-1701-4efa-9569-d0fc6afe6dc6",
   "metadata": {},
   "outputs": [
    {
     "data": {
      "text/plain": [
       "0    1\n",
       "1    3\n",
       "2    5\n",
       "3    6\n",
       "4    8\n",
       "dtype: int64"
      ]
     },
     "execution_count": 7,
     "metadata": {},
     "output_type": "execute_result"
    }
   ],
   "source": [
    "import pandas as pd\n",
    "\n",
    "s = pd.Series([1, 3, 5, 6, 8])\n",
    "s"
   ]
  },
  {
   "cell_type": "code",
   "execution_count": 3,
   "id": "122c6120-d309-4584-a213-6ad55ddb5003",
   "metadata": {},
   "outputs": [
    {
     "data": {
      "text/html": [
       "<div>\n",
       "<style scoped>\n",
       "    .dataframe tbody tr th:only-of-type {\n",
       "        vertical-align: middle;\n",
       "    }\n",
       "\n",
       "    .dataframe tbody tr th {\n",
       "        vertical-align: top;\n",
       "    }\n",
       "\n",
       "    .dataframe thead th {\n",
       "        text-align: right;\n",
       "    }\n",
       "</style>\n",
       "<table border=\"1\" class=\"dataframe\">\n",
       "  <thead>\n",
       "    <tr style=\"text-align: right;\">\n",
       "      <th></th>\n",
       "      <th>Nome</th>\n",
       "      <th>Idade</th>\n",
       "      <th>Sexo</th>\n",
       "    </tr>\n",
       "  </thead>\n",
       "  <tbody>\n",
       "    <tr>\n",
       "      <th>0</th>\n",
       "      <td>Joao Pereira Cavalcanti</td>\n",
       "      <td>22</td>\n",
       "      <td>M</td>\n",
       "    </tr>\n",
       "    <tr>\n",
       "      <th>1</th>\n",
       "      <td>Ana Pinto Rocha</td>\n",
       "      <td>35</td>\n",
       "      <td>F</td>\n",
       "    </tr>\n",
       "    <tr>\n",
       "      <th>2</th>\n",
       "      <td>Maria Silva Campos</td>\n",
       "      <td>58</td>\n",
       "      <td>F</td>\n",
       "    </tr>\n",
       "    <tr>\n",
       "      <th>3</th>\n",
       "      <td>Ana Novaes Alves</td>\n",
       "      <td>38</td>\n",
       "      <td>F</td>\n",
       "    </tr>\n",
       "  </tbody>\n",
       "</table>\n",
       "</div>"
      ],
      "text/plain": [
       "                      Nome  Idade Sexo\n",
       "0  Joao Pereira Cavalcanti     22    M\n",
       "1          Ana Pinto Rocha     35    F\n",
       "2       Maria Silva Campos     58    F\n",
       "3         Ana Novaes Alves     38    F"
      ]
     },
     "execution_count": 3,
     "metadata": {},
     "output_type": "execute_result"
    }
   ],
   "source": [
    "df = pd.DataFrame({\n",
    "     'Nome': [ 'Joao Pereira Cavalcanti',\n",
    "     \t\t  'Ana Pinto Rocha',\n",
    "              'Maria Silva Campos',\n",
    "              'Ana Novaes Alves'],\n",
    "     'Idade': [22, 35, 58, 38],\n",
    "     'Sexo': ['M', 'F', 'F', 'F']}\n",
    "   )\n",
    "df\n"
   ]
  },
  {
   "cell_type": "markdown",
   "id": "9cf73bc7-e2c7-448b-92b8-dd852da69b67",
   "metadata": {},
   "source": [
    "Podemos acessar as colunas individualmente como abaixo:"
   ]
  },
  {
   "cell_type": "code",
   "execution_count": 4,
   "id": "93c97dc2-3d58-4e10-ac36-16924842cda5",
   "metadata": {},
   "outputs": [
    {
     "data": {
      "text/plain": [
       "0    22\n",
       "1    35\n",
       "2    58\n",
       "3    38\n",
       "Name: Idade, dtype: int64"
      ]
     },
     "execution_count": 4,
     "metadata": {},
     "output_type": "execute_result"
    }
   ],
   "source": [
    "df['Idade']"
   ]
  },
  {
   "cell_type": "markdown",
   "id": "cfe8247a-67ca-4ad4-a5a7-39b52433ccef",
   "metadata": {},
   "source": [
    "Para obter dados estatísticos sobre uma coluna, podemos usar métodos da coluna como ``min()``, ``max()`` e a média ``mean()``."
   ]
  },
  {
   "cell_type": "code",
   "execution_count": 5,
   "id": "eaca2814-e1ab-4f9d-869b-0a52e0defef1",
   "metadata": {},
   "outputs": [
    {
     "name": "stdout",
     "output_type": "stream",
     "text": [
      "22\n",
      "58\n",
      "38.25\n"
     ]
    }
   ],
   "source": [
    "print( df['Idade'].min()  )\n",
    "print( df['Idade'].max()  )\n",
    "print( df['Idade'].mean() )"
   ]
  },
  {
   "cell_type": "markdown",
   "id": "eb213196-2ec3-4b47-b76c-7787d444eb4c",
   "metadata": {},
   "source": [
    "O método ``describe()`` mostra as principais informações estatísticas sobre a coluna."
   ]
  },
  {
   "cell_type": "code",
   "execution_count": 6,
   "id": "b7323b4f-26c1-43df-a878-ddf2ad29dc84",
   "metadata": {},
   "outputs": [
    {
     "data": {
      "text/plain": [
       "count     4.000000\n",
       "mean     38.250000\n",
       "std      14.885675\n",
       "min      22.000000\n",
       "25%      31.750000\n",
       "50%      36.500000\n",
       "75%      43.000000\n",
       "max      58.000000\n",
       "Name: Idade, dtype: float64"
      ]
     },
     "execution_count": 6,
     "metadata": {},
     "output_type": "execute_result"
    }
   ],
   "source": [
    "df['Idade'].describe()"
   ]
  },
  {
   "cell_type": "markdown",
   "id": "eebc5163-ec93-4e6b-a8ac-155e0213f1e0",
   "metadata": {},
   "source": [
    "Pandas possui funcionalidades de leitura de dados tanto localmente quanto remoto em diversos formatos. O código abaixo mostra a leitura de um arquivo CSV remoto em um dataFrame e posterior resumo dos dados com a função ``describe()``.  É possível observar informações sobre as colunas lidas e dado estatísticos sobre os valores tais como média, desvio padrão, mínimo e máximo, etc."
   ]
  },
  {
   "cell_type": "code",
   "execution_count": 3,
   "id": "ef10193c-8fab-46de-8ae4-0e723343d514",
   "metadata": {},
   "outputs": [
    {
     "data": {
      "text/html": [
       "<div>\n",
       "<style scoped>\n",
       "    .dataframe tbody tr th:only-of-type {\n",
       "        vertical-align: middle;\n",
       "    }\n",
       "\n",
       "    .dataframe tbody tr th {\n",
       "        vertical-align: top;\n",
       "    }\n",
       "\n",
       "    .dataframe thead th {\n",
       "        text-align: right;\n",
       "    }\n",
       "</style>\n",
       "<table border=\"1\" class=\"dataframe\">\n",
       "  <thead>\n",
       "    <tr style=\"text-align: right;\">\n",
       "      <th></th>\n",
       "      <th>PassengerId</th>\n",
       "      <th>Survived</th>\n",
       "      <th>Pclass</th>\n",
       "      <th>Age</th>\n",
       "      <th>SibSp</th>\n",
       "      <th>Parch</th>\n",
       "      <th>Fare</th>\n",
       "    </tr>\n",
       "  </thead>\n",
       "  <tbody>\n",
       "    <tr>\n",
       "      <th>count</th>\n",
       "      <td>891.000000</td>\n",
       "      <td>891.000000</td>\n",
       "      <td>891.000000</td>\n",
       "      <td>714.000000</td>\n",
       "      <td>891.000000</td>\n",
       "      <td>891.000000</td>\n",
       "      <td>891.000000</td>\n",
       "    </tr>\n",
       "    <tr>\n",
       "      <th>mean</th>\n",
       "      <td>446.000000</td>\n",
       "      <td>0.383838</td>\n",
       "      <td>2.308642</td>\n",
       "      <td>29.699118</td>\n",
       "      <td>0.523008</td>\n",
       "      <td>0.381594</td>\n",
       "      <td>32.204208</td>\n",
       "    </tr>\n",
       "    <tr>\n",
       "      <th>std</th>\n",
       "      <td>257.353842</td>\n",
       "      <td>0.486592</td>\n",
       "      <td>0.836071</td>\n",
       "      <td>14.526497</td>\n",
       "      <td>1.102743</td>\n",
       "      <td>0.806057</td>\n",
       "      <td>49.693429</td>\n",
       "    </tr>\n",
       "    <tr>\n",
       "      <th>min</th>\n",
       "      <td>1.000000</td>\n",
       "      <td>0.000000</td>\n",
       "      <td>1.000000</td>\n",
       "      <td>0.420000</td>\n",
       "      <td>0.000000</td>\n",
       "      <td>0.000000</td>\n",
       "      <td>0.000000</td>\n",
       "    </tr>\n",
       "    <tr>\n",
       "      <th>25%</th>\n",
       "      <td>223.500000</td>\n",
       "      <td>0.000000</td>\n",
       "      <td>2.000000</td>\n",
       "      <td>20.125000</td>\n",
       "      <td>0.000000</td>\n",
       "      <td>0.000000</td>\n",
       "      <td>7.910400</td>\n",
       "    </tr>\n",
       "    <tr>\n",
       "      <th>50%</th>\n",
       "      <td>446.000000</td>\n",
       "      <td>0.000000</td>\n",
       "      <td>3.000000</td>\n",
       "      <td>28.000000</td>\n",
       "      <td>0.000000</td>\n",
       "      <td>0.000000</td>\n",
       "      <td>14.454200</td>\n",
       "    </tr>\n",
       "    <tr>\n",
       "      <th>75%</th>\n",
       "      <td>668.500000</td>\n",
       "      <td>1.000000</td>\n",
       "      <td>3.000000</td>\n",
       "      <td>38.000000</td>\n",
       "      <td>1.000000</td>\n",
       "      <td>0.000000</td>\n",
       "      <td>31.000000</td>\n",
       "    </tr>\n",
       "    <tr>\n",
       "      <th>max</th>\n",
       "      <td>891.000000</td>\n",
       "      <td>1.000000</td>\n",
       "      <td>3.000000</td>\n",
       "      <td>80.000000</td>\n",
       "      <td>8.000000</td>\n",
       "      <td>6.000000</td>\n",
       "      <td>512.329200</td>\n",
       "    </tr>\n",
       "  </tbody>\n",
       "</table>\n",
       "</div>"
      ],
      "text/plain": [
       "       PassengerId    Survived      Pclass         Age       SibSp  \\\n",
       "count   891.000000  891.000000  891.000000  714.000000  891.000000   \n",
       "mean    446.000000    0.383838    2.308642   29.699118    0.523008   \n",
       "std     257.353842    0.486592    0.836071   14.526497    1.102743   \n",
       "min       1.000000    0.000000    1.000000    0.420000    0.000000   \n",
       "25%     223.500000    0.000000    2.000000   20.125000    0.000000   \n",
       "50%     446.000000    0.000000    3.000000   28.000000    0.000000   \n",
       "75%     668.500000    1.000000    3.000000   38.000000    1.000000   \n",
       "max     891.000000    1.000000    3.000000   80.000000    8.000000   \n",
       "\n",
       "            Parch        Fare  \n",
       "count  891.000000  891.000000  \n",
       "mean     0.381594   32.204208  \n",
       "std      0.806057   49.693429  \n",
       "min      0.000000    0.000000  \n",
       "25%      0.000000    7.910400  \n",
       "50%      0.000000   14.454200  \n",
       "75%      0.000000   31.000000  \n",
       "max      6.000000  512.329200  "
      ]
     },
     "execution_count": 3,
     "metadata": {},
     "output_type": "execute_result"
    }
   ],
   "source": [
    "import pandas as pd\n",
    "\n",
    "titanic = pd.read_csv(\"https://raw.githubusercontent.com/pandas-dev/pandas/master/doc/data/titanic.csv\")\n",
    "titanic.describe()"
   ]
  },
  {
   "cell_type": "markdown",
   "id": "7606d232-4bdb-4c00-8703-18ef33b95d05",
   "metadata": {},
   "source": [
    "Podemos selecionar apenas um subconjunto de colunas da tabela maior como no exemplo linha 1 onde seleciona as colunas ``Age`` e ``Sex`` e mostra as primeiras cinco linhas com a função ``head()``."
   ]
  },
  {
   "cell_type": "code",
   "execution_count": 8,
   "id": "c273e342-e142-4f91-949d-b29b683af915",
   "metadata": {},
   "outputs": [
    {
     "data": {
      "text/html": [
       "<div>\n",
       "<style scoped>\n",
       "    .dataframe tbody tr th:only-of-type {\n",
       "        vertical-align: middle;\n",
       "    }\n",
       "\n",
       "    .dataframe tbody tr th {\n",
       "        vertical-align: top;\n",
       "    }\n",
       "\n",
       "    .dataframe thead th {\n",
       "        text-align: right;\n",
       "    }\n",
       "</style>\n",
       "<table border=\"1\" class=\"dataframe\">\n",
       "  <thead>\n",
       "    <tr style=\"text-align: right;\">\n",
       "      <th></th>\n",
       "      <th>Age</th>\n",
       "      <th>Sex</th>\n",
       "    </tr>\n",
       "  </thead>\n",
       "  <tbody>\n",
       "    <tr>\n",
       "      <th>0</th>\n",
       "      <td>22.0</td>\n",
       "      <td>male</td>\n",
       "    </tr>\n",
       "    <tr>\n",
       "      <th>1</th>\n",
       "      <td>38.0</td>\n",
       "      <td>female</td>\n",
       "    </tr>\n",
       "    <tr>\n",
       "      <th>2</th>\n",
       "      <td>26.0</td>\n",
       "      <td>female</td>\n",
       "    </tr>\n",
       "    <tr>\n",
       "      <th>3</th>\n",
       "      <td>35.0</td>\n",
       "      <td>female</td>\n",
       "    </tr>\n",
       "    <tr>\n",
       "      <th>4</th>\n",
       "      <td>35.0</td>\n",
       "      <td>male</td>\n",
       "    </tr>\n",
       "  </tbody>\n",
       "</table>\n",
       "</div>"
      ],
      "text/plain": [
       "    Age     Sex\n",
       "0  22.0    male\n",
       "1  38.0  female\n",
       "2  26.0  female\n",
       "3  35.0  female\n",
       "4  35.0    male"
      ]
     },
     "execution_count": 8,
     "metadata": {},
     "output_type": "execute_result"
    }
   ],
   "source": [
    "idade_sexo = titanic[['Age', 'Sex']]\n",
    "idade_sexo.head()"
   ]
  },
  {
   "cell_type": "markdown",
   "id": "db479d9d-56fc-40ee-a77b-f1b4842df1e0",
   "metadata": {},
   "source": [
    "A consulta sobre dados estatísticos pode ser feito por coluna como na Figura 40 onde as informações de valores mínimo, máximo e média são mostrados para a coluna ``Age``."
   ]
  },
  {
   "cell_type": "code",
   "execution_count": 9,
   "id": "e8dfe627-9b7c-4922-b317-0f74f9ede9d5",
   "metadata": {},
   "outputs": [
    {
     "name": "stdout",
     "output_type": "stream",
     "text": [
      "0.42\n",
      "80.0\n",
      "29.69911764705882\n"
     ]
    }
   ],
   "source": [
    "print( titanic['Age'].min()  )\n",
    "print( titanic['Age'].max()  )\n",
    "print( titanic['Age'].mean() )"
   ]
  },
  {
   "cell_type": "markdown",
   "id": "699cd576-fd24-4616-83fc-8934e53c6049",
   "metadata": {},
   "source": [
    "Também podemos aplicar testes relacionais e lógicos para selecionar determinadas linhas da tabela como no exemplo. O primeiro exemplo cria a tabela ``acima_35`` com todos os passeiros que tinham idade acima de 35 anos resultando em 217 linhas. Depois, a outra seleção cria a tabela ``acima_M_35`` com todos os passageiros acima de 35 anos e do sexo masculino resultando em 144 linhas. Note que em ambos os casos usamos operadores relacionados para efeitos de comparação e um operador lógico no segundo exemplo."
   ]
  },
  {
   "cell_type": "code",
   "execution_count": 10,
   "id": "7aaf6c85-916f-4417-9294-f734c0ee3ae5",
   "metadata": {},
   "outputs": [
    {
     "data": {
      "text/plain": [
       "217"
      ]
     },
     "execution_count": 10,
     "metadata": {},
     "output_type": "execute_result"
    }
   ],
   "source": [
    "acima_35 = titanic[ titanic['Age'] > 35 ]\n",
    "len( acima_35 )"
   ]
  },
  {
   "cell_type": "code",
   "execution_count": 11,
   "id": "2961fa87-c0b1-4a6a-bf89-1a54e49abd25",
   "metadata": {},
   "outputs": [
    {
     "data": {
      "text/plain": [
       "144"
      ]
     },
     "execution_count": 11,
     "metadata": {},
     "output_type": "execute_result"
    }
   ],
   "source": [
    "acima_M_35 = titanic[ (titanic['Age'] > 35) & (titanic['Sex'] == 'male') ]\n",
    "len( acima_M_35 )"
   ]
  },
  {
   "cell_type": "markdown",
   "id": "bd2bd88f-46b1-42b1-bb66-36e4a88208c0",
   "metadata": {},
   "source": [
    "A geração de gráficos é integrada e usa  o pacote ``matplotlib`` como no exemplo da Figura 42. O gráfico exemplo é um histograma baseado na idade dos passageiros. Note que a maioria dos passagens estava na faixa entre 20 e 30 anos de idade, tendo inclusive alguns abaixo de 10 anos e acima de 70."
   ]
  },
  {
   "cell_type": "code",
   "execution_count": 12,
   "id": "74f09b40-6864-4be6-8f5b-1c260d94d1e0",
   "metadata": {},
   "outputs": [
    {
     "data": {
      "text/plain": [
       "<Axes: ylabel='Frequency'>"
      ]
     },
     "execution_count": 12,
     "metadata": {},
     "output_type": "execute_result"
    },
    {
     "data": {
      "image/png": "[encoded data removed]",
      "text/plain": [
       "<Figure size 640x480 with 1 Axes>"
      ]
     },
     "metadata": {},
     "output_type": "display_data"
    }
   ],
   "source": [
    "titanic['Age'].plot.hist()"
   ]
  },
  {
   "cell_type": "code",
   "execution_count": 13,
   "id": "ca587338-5337-4edf-9600-323437678181",
   "metadata": {},
   "outputs": [
    {
     "data": {
      "text/plain": [
       "<Axes: xlabel='Sex'>"
      ]
     },
     "execution_count": 13,
     "metadata": {},
     "output_type": "execute_result"
    },
    {
     "data": {
      "image/png": "[encoded data removed]",
      "text/plain": [
       "<Figure size 640x480 with 1 Axes>"
      ]
     },
     "metadata": {},
     "output_type": "display_data"
    }
   ],
   "source": [
    "titanic.groupby(\"Sex\").Sex.count().plot.bar()"
   ]
  },
  {
   "cell_type": "markdown",
   "id": "13caf02c-7b01-4118-a33c-6fa9a0f92645",
   "metadata": {},
   "source": [
    "Podemos visualizar quantos passagens sobreviram com a coluna ``Survived``. Para tanto, o método ``value_counts()`` conta a frequência de cada valor em uma coluna como no exemplo abaixo."
   ]
  },
  {
   "cell_type": "code",
   "execution_count": 5,
   "id": "dba15f16-97fc-4e23-bd03-57ff960bc059",
   "metadata": {},
   "outputs": [
    {
     "data": {
      "text/plain": [
       "Survived\n",
       "0    549\n",
       "1    342\n",
       "Name: count, dtype: int64"
      ]
     },
     "execution_count": 5,
     "metadata": {},
     "output_type": "execute_result"
    }
   ],
   "source": [
    "titanic.value_counts(\"Survived\")"
   ]
  },
  {
   "cell_type": "markdown",
   "id": "629196ce-da94-41e9-abbc-5941e6673d72",
   "metadata": {},
   "source": [
    "Podemos calcular esse valores em termos de porcentagem como abaixo: criamos um *Series* ``sobreviventes`` com os valores dados pelo método ``value_counts()`` e calculamos a porcentagem dividindo pela soma de todos os valores da coluna com o método ``sum()``."
   ]
  },
  {
   "cell_type": "code",
   "execution_count": 33,
   "id": "84befe95-6dde-42a9-b39a-52594a3a5fde",
   "metadata": {},
   "outputs": [
    {
     "data": {
      "text/plain": [
       "Survived\n",
       "0    61.616162\n",
       "1    38.383838\n",
       "Name: count, dtype: float64"
      ]
     },
     "execution_count": 33,
     "metadata": {},
     "output_type": "execute_result"
    }
   ],
   "source": [
    "sobreviventes = titanic.value_counts(\"Survived\")\n",
    "sobreviventes = 100 * sobreviventes / sobreviventes.sum()\n",
    "sobreviventes"
   ]
  },
  {
   "cell_type": "markdown",
   "id": "0cdf278c-6bb9-4b82-aba0-7375f2b92ecd",
   "metadata": {},
   "source": [
    "Os mesmo valores podem ser representados por um gráfico de pizza."
   ]
  },
  {
   "cell_type": "code",
   "execution_count": 26,
   "id": "b05793bb-79e4-4114-bd11-66c3a52864f1",
   "metadata": {},
   "outputs": [
    {
     "data": {
      "text/plain": [
       "<Axes: ylabel='count'>"
      ]
     },
     "execution_count": 26,
     "metadata": {},
     "output_type": "execute_result"
    },
    {
     "data": {
      "image/png": "[encoded data removed]",
      "text/plain": [
       "<Figure size 640x480 with 1 Axes>"
      ]
     },
     "metadata": {},
     "output_type": "display_data"
    }
   ],
   "source": [
    "titanic.value_counts(\"Survived\").plot.pie()"
   ]
  }
 ],
 "metadata": {
  "kernelspec": {
   "display_name": "Python 3 (ipykernel)",
   "language": "python",
   "name": "python3"
  },
  "language_info": {
   "codemirror_mode": {
    "name": "ipython",
    "version": 3
   },
   "file_extension": ".py",
   "mimetype": "text/x-python",
   "name": "python",
   "nbconvert_exporter": "python",
   "pygments_lexer": "ipython3",
   "version": "3.11.2"
  }
 },
 "nbformat": 4,
 "nbformat_minor": 5
}
