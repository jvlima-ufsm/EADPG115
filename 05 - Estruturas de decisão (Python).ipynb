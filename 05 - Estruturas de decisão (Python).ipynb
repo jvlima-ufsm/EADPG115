{
 "cells": [
  {
   "cell_type": "code",
   "execution_count": 1,
   "id": "cb6b3b8e-306d-4794-a54b-8b5d49ce0042",
   "metadata": {},
   "outputs": [
    {
     "name": "stdout",
     "output_type": "stream",
     "text": [
      "O maior: 5\n",
      "Fim\n"
     ]
    }
   ],
   "source": [
    "x = 5\n",
    "y = 4\n",
    "if x > y:\n",
    "    print( 'O maior:', x )\n",
    "print( 'Fim' )\n"
   ]
  },
  {
   "cell_type": "code",
   "execution_count": 2,
   "id": "bfc5371e-060c-4a11-abe4-2662cd7903fc",
   "metadata": {},
   "outputs": [
    {
     "name": "stdout",
     "output_type": "stream",
     "text": [
      "O maior: 4\n"
     ]
    }
   ],
   "source": [
    "x = 3\n",
    "y = 4\n",
    "if x > y:\n",
    "    print( 'O maior:', x )\n",
    "else:\n",
    "    print( 'O maior:', y )\n"
   ]
  },
  {
   "cell_type": "code",
   "execution_count": 2,
   "id": "e0c98027-20cb-4e63-83c7-113ae6966e63",
   "metadata": {},
   "outputs": [
    {
     "name": "stdout",
     "output_type": "stream",
     "text": [
      "O maior: 7\n",
      "Fim\n"
     ]
    }
   ],
   "source": [
    "x = 5\n",
    "y = 6\n",
    "z = 7\n",
    "if x > y:\n",
    "    print( 'O maior:', x )\n",
    "elif y > z:\n",
    "    print( 'O maior:', y )\n",
    "else:\n",
    "    print( 'O maior:', z )\n",
    "print('Fim')"
   ]
  },
  {
   "cell_type": "code",
   "execution_count": null,
   "id": "f56b7a9e-59ba-4e34-a1a1-24a4e34167d3",
   "metadata": {},
   "outputs": [],
   "source": []
  }
 ],
 "metadata": {
  "kernelspec": {
   "display_name": "Python 3 (ipykernel)",
   "language": "python",
   "name": "python3"
  },
  "language_info": {
   "codemirror_mode": {
    "name": "ipython",
    "version": 3
   },
   "file_extension": ".py",
   "mimetype": "text/x-python",
   "name": "python",
   "nbconvert_exporter": "python",
   "pygments_lexer": "ipython3",
   "version": "3.11.2"
  }
 },
 "nbformat": 4,
 "nbformat_minor": 5
}
